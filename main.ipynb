{
 "cells": [
  {
   "cell_type": "markdown",
   "metadata": {
    "id": "un6ZavmcLQjY"
   },
   "source": [
    "### Soru 1:\n",
    "* Stackoverflow'un 2019 yılı için geliştiricilerle yaptığı anket sonuçlarını içeren ```\"survey_results_public.csv\"``` adlı dosyayı okuyarak __survey_19__ adlı DataFrame'e aktarın.\n",
    "* DataFrame'in satır ve sütun sayısını yazdırın.\n",
    "* ```Respondent``` sütununu index olarak atayın.\n",
    "* Aşağıdaki sütunları dataframe'den siliniz:\n",
    "\n",
    "    ``` ['ScreenName', 'SOVisit1st','SOVisitFreq', 'SOVisitTo', 'SOFindAnswer', 'SOTimeSaved', 'SOHowMuchTime', 'SOAccount',   'SOPartFreq', 'SOJobs', 'EntTeams', 'SOComm', 'WelcomeChange', 'SONewContent']``` \n",
    "  \n",
    "  \n",
    "* ```DevType``` ya da ```LanguageWorkedWith``` sütununda eksik veri olan satırları siliniz. Kaç satır silindi?\n",
    "* ```Country``` sütunundaki ```Russian Federation``` ve ```Czech Republic``` değerlerini sırasıyla ```Russia``` ve ```Czechia``` olarak değiştiriniz.\n",
    "* Haftalık çalışma saati ```(WorkWeekHrs)``` ya da yıllık maaş ```(ConvertedComp)``` sütunlarındaki değerleri, ilgili sütunun ortalamasının %99'undan daha uzakta veri içeren satırları siliniz.\n",
    "* ```Gender``` sütununda ```Man```, ```Woman``` ve ```NaN``` dışındaki değerleri, ```Non-binary``` değeri ile değiştirin."
   ]
  },
  {
   "cell_type": "code",
   "execution_count": 1,
   "metadata": {
    "id": "wgwkvNIbLQja"
   },
   "outputs": [],
   "source": [
    "import pandas as pd\n",
    "import numpy as np\n",
    "from IPython.display import display\n",
    "import matplotlib.pyplot as plt"
   ]
  },
  {
   "cell_type": "code",
   "execution_count": 2,
   "metadata": {
    "id": "3Ou-N4fALQjb"
   },
   "outputs": [],
   "source": [
    "#pd.set_option('display.max_rows', 500)\n",
    "#pd.set_option('display.max_columns', 500)"
   ]
  },
  {
   "cell_type": "markdown",
   "metadata": {},
   "source": [
    "#### Stackoverflow'un 2019 yılı için geliştiricilerle yaptığı anket sonuçlarını içeren \"survey_results_public.csv\" adlı dosyayı okuyarak survey_19 adlı DataFrame'e aktarın.\n"
   ]
  },
  {
   "cell_type": "code",
   "execution_count": 3,
   "metadata": {
    "colab": {
     "base_uri": "https://localhost:8080/",
     "height": 376
    },
    "id": "BLhs1eRaLQjc",
    "outputId": "d31ef5a8-9fcb-4ab2-8ae7-4cfb5f85d307"
   },
   "outputs": [],
   "source": [
    "survey_19=pd.read_csv(\"survey_results_public.csv\")"
   ]
  },
  {
   "cell_type": "markdown",
   "metadata": {},
   "source": [
    "#### DataFrame'in satır ve sütun sayısını yazdırın.\n"
   ]
  },
  {
   "cell_type": "code",
   "execution_count": 4,
   "metadata": {
    "id": "uNpk1B2dLQje",
    "outputId": "79dabce5-8a4a-490c-953e-82df4f011995",
    "scrolled": false
   },
   "outputs": [
    {
     "name": "stdout",
     "output_type": "stream",
     "text": [
      "Satır: 88883\n",
      "Sutun: 85\n"
     ]
    }
   ],
   "source": [
    "print(\"Satır:\",len(survey_19))\n",
    "print(\"Sutun:\",len(survey_19.columns))"
   ]
  },
  {
   "cell_type": "markdown",
   "metadata": {},
   "source": [
    "#### Respondent sütununu index olarak atayın."
   ]
  },
  {
   "cell_type": "code",
   "execution_count": 5,
   "metadata": {
    "id": "t42Ygu1CLQjh"
   },
   "outputs": [],
   "source": [
    "survey_19.set_index(\"Respondent\",inplace=True)"
   ]
  },
  {
   "cell_type": "markdown",
   "metadata": {},
   "source": [
    "#### Aşağıdaki sütunları dataframe'den siliniz:\n",
    "\n",
    " ``` ['ScreenName', 'SOVisit1st','SOVisitFreq', 'SOVisitTo', 'SOFindAnswer', 'SOTimeSaved', 'SOHowMuchTime', 'SOAccount',   'SOPartFreq', 'SOJobs', 'EntTeams', 'SOComm', 'WelcomeChange', 'SONewContent']``` \n"
   ]
  },
  {
   "cell_type": "code",
   "execution_count": 6,
   "metadata": {
    "id": "ayW_x-81LQji"
   },
   "outputs": [],
   "source": [
    "survey_19.drop(columns=['ScreenName', 'SOVisit1st','SOVisitFreq', 'SOVisitTo', 'SOFindAnswer', 'SOTimeSaved', 'SOHowMuchTime', 'SOAccount',   'SOPartFreq', 'SOJobs', 'EntTeams', 'SOComm', 'WelcomeChange', 'SONewContent'],inplace=True)"
   ]
  },
  {
   "cell_type": "markdown",
   "metadata": {},
   "source": [
    "####  ```DevType``` ya da ```LanguageWorkedWith``` sütununda eksik veri olan satırları siliniz. Kaç satır silindi?"
   ]
  },
  {
   "cell_type": "code",
   "execution_count": 7,
   "metadata": {
    "id": "Akwel3T-LQji",
    "outputId": "f3823b62-c2e3-4f1b-a7ba-05129084597c"
   },
   "outputs": [
    {
     "name": "stdout",
     "output_type": "stream",
     "text": [
      "before: (88883, 70)\n",
      "before: (80532, 70)\n"
     ]
    }
   ],
   "source": [
    "print(\"before:\",survey_19.shape)\n",
    "survey_19.dropna(subset=[\"LanguageWorkedWith\",\"DevType\"],inplace=True)\n",
    "print(\"before:\",survey_19.shape)"
   ]
  },
  {
   "cell_type": "markdown",
   "metadata": {},
   "source": [
    "\n",
    "#### ```Country``` sütunundaki ```Russian Federation``` ve ```Czech Republic``` değerlerini sırasıyla ```Russia``` ve ```Czechia``` olarak değiştiriniz.\n"
   ]
  },
  {
   "cell_type": "code",
   "execution_count": 8,
   "metadata": {
    "id": "fzNrlqTmLQjj"
   },
   "outputs": [],
   "source": [
    "survey_19.Country.replace({\"Russian Federation\":\"Russia\",\"Czech Republic\":\"Czechia\"},inplace=True)"
   ]
  },
  {
   "cell_type": "markdown",
   "metadata": {},
   "source": [
    "#### Haftalık çalışma saati ```(WorkWeekHrs)``` ya da yıllık maaş ```(ConvertedComp)``` sütunlarındaki değerleri, ilgili sütunun ortalamasının %99'undan daha uzakta veri içeren satırları siliniz.\n"
   ]
  },
  {
   "cell_type": "code",
   "execution_count": 9,
   "metadata": {
    "id": "5Jkc3vEFLQjk",
    "outputId": "84f3fc09-023e-4edb-da36-f7f1359d0241"
   },
   "outputs": [
    {
     "name": "stdout",
     "output_type": "stream",
     "text": [
      "42.10461919774146 126919.92871196939\n"
     ]
    }
   ],
   "source": [
    "mean_workweekhrs=survey_19.WorkWeekHrs.mean()\n",
    "mean_convervedcomp=survey_19.ConvertedComp.mean()\n",
    "print(mean_workweekhrs,mean_convervedcomp)"
   ]
  },
  {
   "cell_type": "code",
   "execution_count": 10,
   "metadata": {
    "id": "V9-vvd6DLQjl",
    "outputId": "ca4da531-a226-4d78-c34e-ea41f9f07283"
   },
   "outputs": [
    {
     "data": {
      "text/plain": [
       "(49430, 70)"
      ]
     },
     "execution_count": 10,
     "metadata": {},
     "output_type": "execute_result"
    }
   ],
   "source": [
    "survey_19=survey_19[np.logical_and(survey_19.WorkWeekHrs>mean_workweekhrs*0.01,survey_19.WorkWeekHrs<mean_workweekhrs*1.99)]\n",
    "survey_19=survey_19[np.logical_and(survey_19.ConvertedComp>mean_convervedcomp*0.01,survey_19.ConvertedComp<mean_convervedcomp*1.99)]\n",
    "survey_19.shape"
   ]
  },
  {
   "cell_type": "markdown",
   "metadata": {},
   "source": [
    "#### ```Gender``` sütununda ```Man```, ```Woman``` ve ```NaN``` dışındaki değerleri, ```Non-binary``` değeri ile değiştirin."
   ]
  },
  {
   "cell_type": "code",
   "execution_count": 11,
   "metadata": {
    "id": "INDfkqznLQjm",
    "outputId": "30ec1127-d5b3-4436-a070-d821a0cb5171",
    "scrolled": true
   },
   "outputs": [
    {
     "data": {
      "text/plain": [
       "Man                                                            44742\n",
       "Woman                                                           3380\n",
       "NaN                                                              763\n",
       "Non-binary, genderqueer, or gender non-conforming                287\n",
       "Man;Non-binary, genderqueer, or gender non-conforming            105\n",
       "Woman;Non-binary, genderqueer, or gender non-conforming           99\n",
       "Woman;Man                                                         34\n",
       "Woman;Man;Non-binary, genderqueer, or gender non-conforming       20\n",
       "Name: Gender, dtype: int64"
      ]
     },
     "execution_count": 11,
     "metadata": {},
     "output_type": "execute_result"
    }
   ],
   "source": [
    "Gender_list=[\"Man\",\"Woman\",np.NaN]\n",
    "survey_19.Gender.value_counts(dropna=False)"
   ]
  },
  {
   "cell_type": "code",
   "execution_count": 12,
   "metadata": {
    "id": "XKtkR1TSLQjn",
    "outputId": "ad9f2698-077d-47a4-bb50-1c1d9b471698"
   },
   "outputs": [
    {
     "data": {
      "text/plain": [
       "Gender\n",
       "Man           44742\n",
       "Non Binary      545\n",
       "Woman          3380\n",
       "dtype: int64"
      ]
     },
     "execution_count": 12,
     "metadata": {},
     "output_type": "execute_result"
    }
   ],
   "source": [
    "survey_19.Gender=survey_19.Gender.apply(lambda x:\"Non Binary\" if x not in Gender_list else x)\n",
    "survey_19.groupby(\"Gender\").size()"
   ]
  },
  {
   "cell_type": "code",
   "execution_count": 13,
   "metadata": {},
   "outputs": [
    {
     "data": {
      "text/plain": [
       "Man           44742\n",
       "Woman          3380\n",
       "NaN             763\n",
       "Non Binary      545\n",
       "Name: Gender, dtype: int64"
      ]
     },
     "execution_count": 13,
     "metadata": {},
     "output_type": "execute_result"
    }
   ],
   "source": [
    "survey_19.Gender.value_counts(dropna=False)"
   ]
  },
  {
   "cell_type": "markdown",
   "metadata": {
    "id": "sttUg8l0LQjo"
   },
   "source": [
    "### Soru 2:\n",
    "* ```Age``` sütununu 0, 15, 19, 24, 29, 34, 39, 44, 49, 54, 59, 99 binleri ile aralığa çevirerek ```AgeInterval``` adında yeni bir sütun oluşturunuz.\n",
    "* Ankete katılanların yaş aralıklarına göre dağılımını pasta grafiğinde gösteriniz. \n",
    "* (19-24] yaş aralığının en çok kullandığı sosyal medya nedir?"
   ]
  },
  {
   "cell_type": "code",
   "execution_count": 14,
   "metadata": {
    "id": "QyMqC8IVLQjp",
    "outputId": "24fec65c-52a5-4adb-82e8-b95e7714b818",
    "scrolled": true
   },
   "outputs": [
    {
     "data": {
      "text/html": [
       "<div>\n",
       "<style scoped>\n",
       "    .dataframe tbody tr th:only-of-type {\n",
       "        vertical-align: middle;\n",
       "    }\n",
       "\n",
       "    .dataframe tbody tr th {\n",
       "        vertical-align: top;\n",
       "    }\n",
       "\n",
       "    .dataframe thead th {\n",
       "        text-align: right;\n",
       "    }\n",
       "</style>\n",
       "<table border=\"1\" class=\"dataframe\">\n",
       "  <thead>\n",
       "    <tr style=\"text-align: right;\">\n",
       "      <th></th>\n",
       "      <th>MainBranch</th>\n",
       "      <th>Hobbyist</th>\n",
       "      <th>OpenSourcer</th>\n",
       "      <th>OpenSource</th>\n",
       "      <th>Employment</th>\n",
       "      <th>Country</th>\n",
       "      <th>Student</th>\n",
       "      <th>EdLevel</th>\n",
       "      <th>UndergradMajor</th>\n",
       "      <th>EduOther</th>\n",
       "      <th>...</th>\n",
       "      <th>Extraversion</th>\n",
       "      <th>Age</th>\n",
       "      <th>Gender</th>\n",
       "      <th>Trans</th>\n",
       "      <th>Sexuality</th>\n",
       "      <th>Ethnicity</th>\n",
       "      <th>Dependents</th>\n",
       "      <th>SurveyLength</th>\n",
       "      <th>SurveyEase</th>\n",
       "      <th>AgeInterval</th>\n",
       "    </tr>\n",
       "    <tr>\n",
       "      <th>Respondent</th>\n",
       "      <th></th>\n",
       "      <th></th>\n",
       "      <th></th>\n",
       "      <th></th>\n",
       "      <th></th>\n",
       "      <th></th>\n",
       "      <th></th>\n",
       "      <th></th>\n",
       "      <th></th>\n",
       "      <th></th>\n",
       "      <th></th>\n",
       "      <th></th>\n",
       "      <th></th>\n",
       "      <th></th>\n",
       "      <th></th>\n",
       "      <th></th>\n",
       "      <th></th>\n",
       "      <th></th>\n",
       "      <th></th>\n",
       "      <th></th>\n",
       "      <th></th>\n",
       "    </tr>\n",
       "  </thead>\n",
       "  <tbody>\n",
       "    <tr>\n",
       "      <th>3</th>\n",
       "      <td>I am not primarily a developer, but I write co...</td>\n",
       "      <td>Yes</td>\n",
       "      <td>Never</td>\n",
       "      <td>The quality of OSS and closed source software ...</td>\n",
       "      <td>Employed full-time</td>\n",
       "      <td>Thailand</td>\n",
       "      <td>No</td>\n",
       "      <td>Bachelor’s degree (BA, BS, B.Eng., etc.)</td>\n",
       "      <td>Web development or web design</td>\n",
       "      <td>Taught yourself a new language, framework, or ...</td>\n",
       "      <td>...</td>\n",
       "      <td>In real life (in person)</td>\n",
       "      <td>28.0</td>\n",
       "      <td>Man</td>\n",
       "      <td>No</td>\n",
       "      <td>Straight / Heterosexual</td>\n",
       "      <td>NaN</td>\n",
       "      <td>Yes</td>\n",
       "      <td>Appropriate in length</td>\n",
       "      <td>Neither easy nor difficult</td>\n",
       "      <td>(24, 29]</td>\n",
       "    </tr>\n",
       "    <tr>\n",
       "      <th>4</th>\n",
       "      <td>I am a developer by profession</td>\n",
       "      <td>No</td>\n",
       "      <td>Never</td>\n",
       "      <td>The quality of OSS and closed source software ...</td>\n",
       "      <td>Employed full-time</td>\n",
       "      <td>United States</td>\n",
       "      <td>No</td>\n",
       "      <td>Bachelor’s degree (BA, BS, B.Eng., etc.)</td>\n",
       "      <td>Computer science, computer engineering, or sof...</td>\n",
       "      <td>Taken an online course in programming or softw...</td>\n",
       "      <td>...</td>\n",
       "      <td>In real life (in person)</td>\n",
       "      <td>22.0</td>\n",
       "      <td>Man</td>\n",
       "      <td>No</td>\n",
       "      <td>Straight / Heterosexual</td>\n",
       "      <td>White or of European descent</td>\n",
       "      <td>No</td>\n",
       "      <td>Appropriate in length</td>\n",
       "      <td>Easy</td>\n",
       "      <td>(19, 24]</td>\n",
       "    </tr>\n",
       "    <tr>\n",
       "      <th>9</th>\n",
       "      <td>I am a developer by profession</td>\n",
       "      <td>Yes</td>\n",
       "      <td>Once a month or more often</td>\n",
       "      <td>The quality of OSS and closed source software ...</td>\n",
       "      <td>Employed full-time</td>\n",
       "      <td>New Zealand</td>\n",
       "      <td>No</td>\n",
       "      <td>Some college/university study without earning ...</td>\n",
       "      <td>Computer science, computer engineering, or sof...</td>\n",
       "      <td>Taken an online course in programming or softw...</td>\n",
       "      <td>...</td>\n",
       "      <td>In real life (in person)</td>\n",
       "      <td>23.0</td>\n",
       "      <td>Man</td>\n",
       "      <td>No</td>\n",
       "      <td>Bisexual</td>\n",
       "      <td>White or of European descent</td>\n",
       "      <td>No</td>\n",
       "      <td>Appropriate in length</td>\n",
       "      <td>Neither easy nor difficult</td>\n",
       "      <td>(19, 24]</td>\n",
       "    </tr>\n",
       "  </tbody>\n",
       "</table>\n",
       "<p>3 rows × 71 columns</p>\n",
       "</div>"
      ],
      "text/plain": [
       "                                                   MainBranch Hobbyist  \\\n",
       "Respondent                                                               \n",
       "3           I am not primarily a developer, but I write co...      Yes   \n",
       "4                              I am a developer by profession       No   \n",
       "9                              I am a developer by profession      Yes   \n",
       "\n",
       "                           OpenSourcer  \\\n",
       "Respondent                               \n",
       "3                                Never   \n",
       "4                                Never   \n",
       "9           Once a month or more often   \n",
       "\n",
       "                                                   OpenSource  \\\n",
       "Respondent                                                      \n",
       "3           The quality of OSS and closed source software ...   \n",
       "4           The quality of OSS and closed source software ...   \n",
       "9           The quality of OSS and closed source software ...   \n",
       "\n",
       "                    Employment        Country Student  \\\n",
       "Respondent                                              \n",
       "3           Employed full-time       Thailand      No   \n",
       "4           Employed full-time  United States      No   \n",
       "9           Employed full-time    New Zealand      No   \n",
       "\n",
       "                                                      EdLevel  \\\n",
       "Respondent                                                      \n",
       "3                    Bachelor’s degree (BA, BS, B.Eng., etc.)   \n",
       "4                    Bachelor’s degree (BA, BS, B.Eng., etc.)   \n",
       "9           Some college/university study without earning ...   \n",
       "\n",
       "                                               UndergradMajor  \\\n",
       "Respondent                                                      \n",
       "3                               Web development or web design   \n",
       "4           Computer science, computer engineering, or sof...   \n",
       "9           Computer science, computer engineering, or sof...   \n",
       "\n",
       "                                                     EduOther  ...  \\\n",
       "Respondent                                                     ...   \n",
       "3           Taught yourself a new language, framework, or ...  ...   \n",
       "4           Taken an online course in programming or softw...  ...   \n",
       "9           Taken an online course in programming or softw...  ...   \n",
       "\n",
       "                        Extraversion   Age Gender Trans  \\\n",
       "Respondent                                                \n",
       "3           In real life (in person)  28.0    Man    No   \n",
       "4           In real life (in person)  22.0    Man    No   \n",
       "9           In real life (in person)  23.0    Man    No   \n",
       "\n",
       "                          Sexuality                     Ethnicity Dependents  \\\n",
       "Respondent                                                                     \n",
       "3           Straight / Heterosexual                           NaN        Yes   \n",
       "4           Straight / Heterosexual  White or of European descent         No   \n",
       "9                          Bisexual  White or of European descent         No   \n",
       "\n",
       "                     SurveyLength                  SurveyEase AgeInterval  \n",
       "Respondent                                                                 \n",
       "3           Appropriate in length  Neither easy nor difficult    (24, 29]  \n",
       "4           Appropriate in length                        Easy    (19, 24]  \n",
       "9           Appropriate in length  Neither easy nor difficult    (19, 24]  \n",
       "\n",
       "[3 rows x 71 columns]"
      ]
     },
     "execution_count": 14,
     "metadata": {},
     "output_type": "execute_result"
    }
   ],
   "source": [
    "survey_19[\"AgeInterval\"]=pd.cut(survey_19.Age,bins=[ 0, 15, 19, 24, 29, 34, 39, 44, 49, 54, 59, 99 ])\n",
    "survey_19.head(3)"
   ]
  },
  {
   "cell_type": "code",
   "execution_count": 15,
   "metadata": {
    "scrolled": false
   },
   "outputs": [
    {
     "data": {
      "text/plain": [
       "(24, 29]    15040\n",
       "(29, 34]    10790\n",
       "(19, 24]     8110\n",
       "(34, 39]     6467\n",
       "(39, 44]     3210\n",
       "(44, 49]     1620\n",
       "(49, 54]      990\n",
       "(54, 59]      491\n",
       "(15, 19]      467\n",
       "(59, 99]      318\n",
       "(0, 15]        13\n",
       "Name: AgeInterval, dtype: int64"
      ]
     },
     "execution_count": 15,
     "metadata": {},
     "output_type": "execute_result"
    }
   ],
   "source": [
    "interval_df=survey_19.AgeInterval.value_counts()\n",
    "interval_df"
   ]
  },
  {
   "cell_type": "code",
   "execution_count": 16,
   "metadata": {},
   "outputs": [
    {
     "data": {
      "text/plain": [
       "<matplotlib.axes._subplots.AxesSubplot at 0x2a2b6ee1d30>"
      ]
     },
     "execution_count": 16,
     "metadata": {},
     "output_type": "execute_result"
    },
    {
     "data": {
      "image/png": "[encoded data removed]",
      "text/plain": [
       "<Figure size 720x720 with 1 Axes>"
      ]
     },
     "metadata": {},
     "output_type": "display_data"
    }
   ],
   "source": [
    "interval_df.plot.pie(figsize=(10,10),autopct='%1.1f%%',fontsize=14)"
   ]
  },
  {
   "cell_type": "code",
   "execution_count": 17,
   "metadata": {},
   "outputs": [
    {
     "data": {
      "text/plain": [
       "'Reddit'"
      ]
     },
     "execution_count": 17,
     "metadata": {},
     "output_type": "execute_result"
    }
   ],
   "source": [
    "survey_19[survey_19.AgeInterval.astype(str).str.contains(\"19.0, 24.0\")].SocialMedia.value_counts().idxmax()"
   ]
  },
  {
   "cell_type": "code",
   "execution_count": 18,
   "metadata": {
    "id": "01xJ-T8YLQjs",
    "outputId": "0a8a0a2f-37dc-4efd-b70d-13b58ea4e365"
   },
   "outputs": [
    {
     "data": {
      "text/plain": [
       "'Reddit'"
      ]
     },
     "execution_count": 18,
     "metadata": {},
     "output_type": "execute_result"
    }
   ],
   "source": [
    "survey_19[np.logical_and(survey_19.Age>19,survey_19.Age<=25)].SocialMedia.value_counts().idxmax()"
   ]
  },
  {
   "cell_type": "markdown",
   "metadata": {
    "id": "LlaJKWYtLQjt"
   },
   "source": [
    "### Soru 3:\n",
    "* DataFrame'i kariyer memnuniyetine ```(CareerSat)``` göre gruplayıp her bir memnuniyet grubundakilerin yıllık kazanç ```(ConvertedComp)``` ortalamasını bularak çizgi grafiği çiziniz. Çizgi grafiğinde X-ekseni en düşük memnuniyetten en yüksek memnuniyete doğru olmalıdır."
   ]
  },
  {
   "cell_type": "code",
   "execution_count": 19,
   "metadata": {
    "id": "ppQ62UcWLQjt",
    "outputId": "b2c608a8-de65-4166-b440-7adbceee033f"
   },
   "outputs": [
    {
     "data": {
      "text/plain": [
       "CareerSat\n",
       "Neither satisfied nor dissatisfied    46708.370281\n",
       "Slightly dissatisfied                 51591.204158\n",
       "Slightly satisfied                    58907.058012\n",
       "Very dissatisfied                     53372.036356\n",
       "Very satisfied                        74243.780137\n",
       "Name: ConvertedComp, dtype: float64"
      ]
     },
     "execution_count": 19,
     "metadata": {},
     "output_type": "execute_result"
    }
   ],
   "source": [
    "group_career=survey_19.groupby(\"CareerSat\").ConvertedComp.mean()\n",
    "group_career"
   ]
  },
  {
   "cell_type": "code",
   "execution_count": 20,
   "metadata": {
    "id": "X9Um4wLWLQju",
    "outputId": "4ff1604d-986e-48a3-d2b6-997f86eb97ef"
   },
   "outputs": [
    {
     "data": {
      "text/plain": [
       "<matplotlib.axes._subplots.AxesSubplot at 0x2a2c00c6160>"
      ]
     },
     "execution_count": 20,
     "metadata": {},
     "output_type": "execute_result"
    },
    {
     "data": {
      "image/png": "[encoded data removed]",
      "text/plain": [
       "<Figure size 1440x360 with 1 Axes>"
      ]
     },
     "metadata": {
      "needs_background": "light"
     },
     "output_type": "display_data"
    }
   ],
   "source": [
    "order_list=[\"Very dissatisfied\",\"Slightly dissatisfied\",\"Neither satisfied nor dissatisfied\",\"Slightly satisfied\",\"Very satisfied\"]\n",
    "group_career=group_career.reindex(order_list)\n",
    "group_career.plot.line(grid=True,figsize=(20,5))"
   ]
  },
  {
   "cell_type": "markdown",
   "metadata": {
    "id": "r1CkNbGkLQjv"
   },
   "source": [
    "### Soru 4: \n",
    "Kadınların daha çok tercih ettiği/edildiği (ankete katılan kadın-erkek oranından daha yüksek orana sahip) geliştirici tipleri ```(DevType)```nelerdir?\n",
    "* Her bir ```DevType``` tipinin sütun olarak, ankete katılanların da satır olarak temsil edildiği yeni bir DataFrame oluşturup __devtype_df__ adlı değişkene atayın.\n",
    "* Oluşan __devtype_df__ DataFrame'ine ```Gender``` sütununu ekleyin.\n",
    "* DataFrame'i cinsiyete göre gruplayarak her bir ```DevType``` için cinsiyete göre sayıları bulun.\n",
    "* ```DevType``` tiplerindeki kadın-erkek oranlarını, ankete katılan kadın-erkek oranı ile karşılaştırarak kadınların daha çok tercih ettiği/edildiği ```DevType``` tiplerini listeleyin."
   ]
  },
  {
   "cell_type": "code",
   "execution_count": 21,
   "metadata": {
    "id": "Ult3zqeHLQjw",
    "scrolled": true
   },
   "outputs": [
    {
     "data": {
      "text/html": [
       "<div>\n",
       "<style scoped>\n",
       "    .dataframe tbody tr th:only-of-type {\n",
       "        vertical-align: middle;\n",
       "    }\n",
       "\n",
       "    .dataframe tbody tr th {\n",
       "        vertical-align: top;\n",
       "    }\n",
       "\n",
       "    .dataframe thead th {\n",
       "        text-align: right;\n",
       "    }\n",
       "</style>\n",
       "<table border=\"1\" class=\"dataframe\">\n",
       "  <thead>\n",
       "    <tr style=\"text-align: right;\">\n",
       "      <th></th>\n",
       "      <th>Academic researcher</th>\n",
       "      <th>Data or business analyst</th>\n",
       "      <th>Data scientist or machine learning specialist</th>\n",
       "      <th>Database administrator</th>\n",
       "      <th>Designer</th>\n",
       "      <th>DevOps specialist</th>\n",
       "      <th>Developer, QA or test</th>\n",
       "      <th>Developer, back-end</th>\n",
       "      <th>Developer, desktop or enterprise applications</th>\n",
       "      <th>Developer, embedded applications or devices</th>\n",
       "      <th>...</th>\n",
       "      <th>Educator</th>\n",
       "      <th>Engineer, data</th>\n",
       "      <th>Engineer, site reliability</th>\n",
       "      <th>Engineering manager</th>\n",
       "      <th>Marketing or sales professional</th>\n",
       "      <th>Product manager</th>\n",
       "      <th>Scientist</th>\n",
       "      <th>Senior executive/VP</th>\n",
       "      <th>Student</th>\n",
       "      <th>System administrator</th>\n",
       "    </tr>\n",
       "    <tr>\n",
       "      <th>Respondent</th>\n",
       "      <th></th>\n",
       "      <th></th>\n",
       "      <th></th>\n",
       "      <th></th>\n",
       "      <th></th>\n",
       "      <th></th>\n",
       "      <th></th>\n",
       "      <th></th>\n",
       "      <th></th>\n",
       "      <th></th>\n",
       "      <th></th>\n",
       "      <th></th>\n",
       "      <th></th>\n",
       "      <th></th>\n",
       "      <th></th>\n",
       "      <th></th>\n",
       "      <th></th>\n",
       "      <th></th>\n",
       "      <th></th>\n",
       "      <th></th>\n",
       "      <th></th>\n",
       "    </tr>\n",
       "  </thead>\n",
       "  <tbody>\n",
       "    <tr>\n",
       "      <th>3</th>\n",
       "      <td>0</td>\n",
       "      <td>0</td>\n",
       "      <td>0</td>\n",
       "      <td>0</td>\n",
       "      <td>1</td>\n",
       "      <td>0</td>\n",
       "      <td>0</td>\n",
       "      <td>1</td>\n",
       "      <td>0</td>\n",
       "      <td>0</td>\n",
       "      <td>...</td>\n",
       "      <td>0</td>\n",
       "      <td>0</td>\n",
       "      <td>0</td>\n",
       "      <td>0</td>\n",
       "      <td>0</td>\n",
       "      <td>0</td>\n",
       "      <td>0</td>\n",
       "      <td>0</td>\n",
       "      <td>0</td>\n",
       "      <td>0</td>\n",
       "    </tr>\n",
       "    <tr>\n",
       "      <th>4</th>\n",
       "      <td>0</td>\n",
       "      <td>0</td>\n",
       "      <td>0</td>\n",
       "      <td>0</td>\n",
       "      <td>0</td>\n",
       "      <td>0</td>\n",
       "      <td>0</td>\n",
       "      <td>0</td>\n",
       "      <td>0</td>\n",
       "      <td>0</td>\n",
       "      <td>...</td>\n",
       "      <td>0</td>\n",
       "      <td>0</td>\n",
       "      <td>0</td>\n",
       "      <td>0</td>\n",
       "      <td>0</td>\n",
       "      <td>0</td>\n",
       "      <td>0</td>\n",
       "      <td>0</td>\n",
       "      <td>0</td>\n",
       "      <td>0</td>\n",
       "    </tr>\n",
       "    <tr>\n",
       "      <th>9</th>\n",
       "      <td>0</td>\n",
       "      <td>0</td>\n",
       "      <td>0</td>\n",
       "      <td>1</td>\n",
       "      <td>0</td>\n",
       "      <td>1</td>\n",
       "      <td>1</td>\n",
       "      <td>1</td>\n",
       "      <td>0</td>\n",
       "      <td>0</td>\n",
       "      <td>...</td>\n",
       "      <td>0</td>\n",
       "      <td>0</td>\n",
       "      <td>0</td>\n",
       "      <td>0</td>\n",
       "      <td>0</td>\n",
       "      <td>0</td>\n",
       "      <td>0</td>\n",
       "      <td>0</td>\n",
       "      <td>0</td>\n",
       "      <td>0</td>\n",
       "    </tr>\n",
       "    <tr>\n",
       "      <th>10</th>\n",
       "      <td>0</td>\n",
       "      <td>1</td>\n",
       "      <td>1</td>\n",
       "      <td>1</td>\n",
       "      <td>0</td>\n",
       "      <td>0</td>\n",
       "      <td>0</td>\n",
       "      <td>1</td>\n",
       "      <td>1</td>\n",
       "      <td>0</td>\n",
       "      <td>...</td>\n",
       "      <td>1</td>\n",
       "      <td>0</td>\n",
       "      <td>0</td>\n",
       "      <td>0</td>\n",
       "      <td>0</td>\n",
       "      <td>0</td>\n",
       "      <td>0</td>\n",
       "      <td>0</td>\n",
       "      <td>0</td>\n",
       "      <td>0</td>\n",
       "    </tr>\n",
       "    <tr>\n",
       "      <th>13</th>\n",
       "      <td>0</td>\n",
       "      <td>1</td>\n",
       "      <td>0</td>\n",
       "      <td>1</td>\n",
       "      <td>0</td>\n",
       "      <td>1</td>\n",
       "      <td>0</td>\n",
       "      <td>1</td>\n",
       "      <td>1</td>\n",
       "      <td>0</td>\n",
       "      <td>...</td>\n",
       "      <td>0</td>\n",
       "      <td>1</td>\n",
       "      <td>1</td>\n",
       "      <td>1</td>\n",
       "      <td>0</td>\n",
       "      <td>0</td>\n",
       "      <td>0</td>\n",
       "      <td>1</td>\n",
       "      <td>0</td>\n",
       "      <td>1</td>\n",
       "    </tr>\n",
       "    <tr>\n",
       "      <th>...</th>\n",
       "      <td>...</td>\n",
       "      <td>...</td>\n",
       "      <td>...</td>\n",
       "      <td>...</td>\n",
       "      <td>...</td>\n",
       "      <td>...</td>\n",
       "      <td>...</td>\n",
       "      <td>...</td>\n",
       "      <td>...</td>\n",
       "      <td>...</td>\n",
       "      <td>...</td>\n",
       "      <td>...</td>\n",
       "      <td>...</td>\n",
       "      <td>...</td>\n",
       "      <td>...</td>\n",
       "      <td>...</td>\n",
       "      <td>...</td>\n",
       "      <td>...</td>\n",
       "      <td>...</td>\n",
       "      <td>...</td>\n",
       "      <td>...</td>\n",
       "    </tr>\n",
       "    <tr>\n",
       "      <th>88876</th>\n",
       "      <td>0</td>\n",
       "      <td>0</td>\n",
       "      <td>0</td>\n",
       "      <td>0</td>\n",
       "      <td>0</td>\n",
       "      <td>0</td>\n",
       "      <td>0</td>\n",
       "      <td>1</td>\n",
       "      <td>0</td>\n",
       "      <td>0</td>\n",
       "      <td>...</td>\n",
       "      <td>0</td>\n",
       "      <td>0</td>\n",
       "      <td>0</td>\n",
       "      <td>0</td>\n",
       "      <td>0</td>\n",
       "      <td>0</td>\n",
       "      <td>0</td>\n",
       "      <td>0</td>\n",
       "      <td>0</td>\n",
       "      <td>0</td>\n",
       "    </tr>\n",
       "    <tr>\n",
       "      <th>88878</th>\n",
       "      <td>0</td>\n",
       "      <td>0</td>\n",
       "      <td>0</td>\n",
       "      <td>0</td>\n",
       "      <td>0</td>\n",
       "      <td>0</td>\n",
       "      <td>0</td>\n",
       "      <td>1</td>\n",
       "      <td>0</td>\n",
       "      <td>0</td>\n",
       "      <td>...</td>\n",
       "      <td>0</td>\n",
       "      <td>0</td>\n",
       "      <td>0</td>\n",
       "      <td>0</td>\n",
       "      <td>0</td>\n",
       "      <td>0</td>\n",
       "      <td>0</td>\n",
       "      <td>0</td>\n",
       "      <td>0</td>\n",
       "      <td>0</td>\n",
       "    </tr>\n",
       "    <tr>\n",
       "      <th>88879</th>\n",
       "      <td>0</td>\n",
       "      <td>0</td>\n",
       "      <td>0</td>\n",
       "      <td>0</td>\n",
       "      <td>0</td>\n",
       "      <td>0</td>\n",
       "      <td>1</td>\n",
       "      <td>0</td>\n",
       "      <td>1</td>\n",
       "      <td>1</td>\n",
       "      <td>...</td>\n",
       "      <td>0</td>\n",
       "      <td>0</td>\n",
       "      <td>0</td>\n",
       "      <td>0</td>\n",
       "      <td>0</td>\n",
       "      <td>0</td>\n",
       "      <td>0</td>\n",
       "      <td>0</td>\n",
       "      <td>0</td>\n",
       "      <td>0</td>\n",
       "    </tr>\n",
       "    <tr>\n",
       "      <th>88881</th>\n",
       "      <td>0</td>\n",
       "      <td>0</td>\n",
       "      <td>0</td>\n",
       "      <td>0</td>\n",
       "      <td>0</td>\n",
       "      <td>0</td>\n",
       "      <td>0</td>\n",
       "      <td>0</td>\n",
       "      <td>0</td>\n",
       "      <td>0</td>\n",
       "      <td>...</td>\n",
       "      <td>0</td>\n",
       "      <td>0</td>\n",
       "      <td>1</td>\n",
       "      <td>0</td>\n",
       "      <td>0</td>\n",
       "      <td>0</td>\n",
       "      <td>0</td>\n",
       "      <td>0</td>\n",
       "      <td>0</td>\n",
       "      <td>0</td>\n",
       "    </tr>\n",
       "    <tr>\n",
       "      <th>88883</th>\n",
       "      <td>0</td>\n",
       "      <td>0</td>\n",
       "      <td>0</td>\n",
       "      <td>0</td>\n",
       "      <td>0</td>\n",
       "      <td>0</td>\n",
       "      <td>0</td>\n",
       "      <td>1</td>\n",
       "      <td>1</td>\n",
       "      <td>0</td>\n",
       "      <td>...</td>\n",
       "      <td>0</td>\n",
       "      <td>0</td>\n",
       "      <td>0</td>\n",
       "      <td>0</td>\n",
       "      <td>0</td>\n",
       "      <td>0</td>\n",
       "      <td>0</td>\n",
       "      <td>0</td>\n",
       "      <td>0</td>\n",
       "      <td>0</td>\n",
       "    </tr>\n",
       "  </tbody>\n",
       "</table>\n",
       "<p>49430 rows × 24 columns</p>\n",
       "</div>"
      ],
      "text/plain": [
       "            Academic researcher  Data or business analyst  \\\n",
       "Respondent                                                  \n",
       "3                             0                         0   \n",
       "4                             0                         0   \n",
       "9                             0                         0   \n",
       "10                            0                         1   \n",
       "13                            0                         1   \n",
       "...                         ...                       ...   \n",
       "88876                         0                         0   \n",
       "88878                         0                         0   \n",
       "88879                         0                         0   \n",
       "88881                         0                         0   \n",
       "88883                         0                         0   \n",
       "\n",
       "            Data scientist or machine learning specialist  \\\n",
       "Respondent                                                  \n",
       "3                                                       0   \n",
       "4                                                       0   \n",
       "9                                                       0   \n",
       "10                                                      1   \n",
       "13                                                      0   \n",
       "...                                                   ...   \n",
       "88876                                                   0   \n",
       "88878                                                   0   \n",
       "88879                                                   0   \n",
       "88881                                                   0   \n",
       "88883                                                   0   \n",
       "\n",
       "            Database administrator  Designer  DevOps specialist  \\\n",
       "Respondent                                                        \n",
       "3                                0         1                  0   \n",
       "4                                0         0                  0   \n",
       "9                                1         0                  1   \n",
       "10                               1         0                  0   \n",
       "13                               1         0                  1   \n",
       "...                            ...       ...                ...   \n",
       "88876                            0         0                  0   \n",
       "88878                            0         0                  0   \n",
       "88879                            0         0                  0   \n",
       "88881                            0         0                  0   \n",
       "88883                            0         0                  0   \n",
       "\n",
       "            Developer, QA or test  Developer, back-end  \\\n",
       "Respondent                                               \n",
       "3                               0                    1   \n",
       "4                               0                    0   \n",
       "9                               1                    1   \n",
       "10                              0                    1   \n",
       "13                              0                    1   \n",
       "...                           ...                  ...   \n",
       "88876                           0                    1   \n",
       "88878                           0                    1   \n",
       "88879                           1                    0   \n",
       "88881                           0                    0   \n",
       "88883                           0                    1   \n",
       "\n",
       "            Developer, desktop or enterprise applications  \\\n",
       "Respondent                                                  \n",
       "3                                                       0   \n",
       "4                                                       0   \n",
       "9                                                       0   \n",
       "10                                                      1   \n",
       "13                                                      1   \n",
       "...                                                   ...   \n",
       "88876                                                   0   \n",
       "88878                                                   0   \n",
       "88879                                                   1   \n",
       "88881                                                   0   \n",
       "88883                                                   1   \n",
       "\n",
       "            Developer, embedded applications or devices  ...  Educator  \\\n",
       "Respondent                                               ...             \n",
       "3                                                     0  ...         0   \n",
       "4                                                     0  ...         0   \n",
       "9                                                     0  ...         0   \n",
       "10                                                    0  ...         1   \n",
       "13                                                    0  ...         0   \n",
       "...                                                 ...  ...       ...   \n",
       "88876                                                 0  ...         0   \n",
       "88878                                                 0  ...         0   \n",
       "88879                                                 1  ...         0   \n",
       "88881                                                 0  ...         0   \n",
       "88883                                                 0  ...         0   \n",
       "\n",
       "            Engineer, data  Engineer, site reliability  Engineering manager  \\\n",
       "Respondent                                                                    \n",
       "3                        0                           0                    0   \n",
       "4                        0                           0                    0   \n",
       "9                        0                           0                    0   \n",
       "10                       0                           0                    0   \n",
       "13                       1                           1                    1   \n",
       "...                    ...                         ...                  ...   \n",
       "88876                    0                           0                    0   \n",
       "88878                    0                           0                    0   \n",
       "88879                    0                           0                    0   \n",
       "88881                    0                           1                    0   \n",
       "88883                    0                           0                    0   \n",
       "\n",
       "            Marketing or sales professional  Product manager  Scientist  \\\n",
       "Respondent                                                                \n",
       "3                                         0                0          0   \n",
       "4                                         0                0          0   \n",
       "9                                         0                0          0   \n",
       "10                                        0                0          0   \n",
       "13                                        0                0          0   \n",
       "...                                     ...              ...        ...   \n",
       "88876                                     0                0          0   \n",
       "88878                                     0                0          0   \n",
       "88879                                     0                0          0   \n",
       "88881                                     0                0          0   \n",
       "88883                                     0                0          0   \n",
       "\n",
       "            Senior executive/VP  Student  System administrator  \n",
       "Respondent                                                      \n",
       "3                             0        0                     0  \n",
       "4                             0        0                     0  \n",
       "9                             0        0                     0  \n",
       "10                            0        0                     0  \n",
       "13                            1        0                     1  \n",
       "...                         ...      ...                   ...  \n",
       "88876                         0        0                     0  \n",
       "88878                         0        0                     0  \n",
       "88879                         0        0                     0  \n",
       "88881                         0        0                     0  \n",
       "88883                         0        0                     0  \n",
       "\n",
       "[49430 rows x 24 columns]"
      ]
     },
     "execution_count": 21,
     "metadata": {},
     "output_type": "execute_result"
    }
   ],
   "source": [
    "devtype_df=survey_19.DevType.str.get_dummies(sep=';')\n",
    "devtype_df"
   ]
  },
  {
   "cell_type": "code",
   "execution_count": 22,
   "metadata": {},
   "outputs": [
    {
     "data": {
      "text/html": [
       "<div>\n",
       "<style scoped>\n",
       "    .dataframe tbody tr th:only-of-type {\n",
       "        vertical-align: middle;\n",
       "    }\n",
       "\n",
       "    .dataframe tbody tr th {\n",
       "        vertical-align: top;\n",
       "    }\n",
       "\n",
       "    .dataframe thead th {\n",
       "        text-align: right;\n",
       "    }\n",
       "</style>\n",
       "<table border=\"1\" class=\"dataframe\">\n",
       "  <thead>\n",
       "    <tr style=\"text-align: right;\">\n",
       "      <th></th>\n",
       "      <th>Academic researcher</th>\n",
       "      <th>Data or business analyst</th>\n",
       "      <th>Data scientist or machine learning specialist</th>\n",
       "      <th>Database administrator</th>\n",
       "      <th>Designer</th>\n",
       "      <th>DevOps specialist</th>\n",
       "      <th>Developer, QA or test</th>\n",
       "      <th>Developer, back-end</th>\n",
       "      <th>Developer, desktop or enterprise applications</th>\n",
       "      <th>Developer, embedded applications or devices</th>\n",
       "      <th>...</th>\n",
       "      <th>Engineer, data</th>\n",
       "      <th>Engineer, site reliability</th>\n",
       "      <th>Engineering manager</th>\n",
       "      <th>Marketing or sales professional</th>\n",
       "      <th>Product manager</th>\n",
       "      <th>Scientist</th>\n",
       "      <th>Senior executive/VP</th>\n",
       "      <th>Student</th>\n",
       "      <th>System administrator</th>\n",
       "      <th>Gender</th>\n",
       "    </tr>\n",
       "    <tr>\n",
       "      <th>Respondent</th>\n",
       "      <th></th>\n",
       "      <th></th>\n",
       "      <th></th>\n",
       "      <th></th>\n",
       "      <th></th>\n",
       "      <th></th>\n",
       "      <th></th>\n",
       "      <th></th>\n",
       "      <th></th>\n",
       "      <th></th>\n",
       "      <th></th>\n",
       "      <th></th>\n",
       "      <th></th>\n",
       "      <th></th>\n",
       "      <th></th>\n",
       "      <th></th>\n",
       "      <th></th>\n",
       "      <th></th>\n",
       "      <th></th>\n",
       "      <th></th>\n",
       "      <th></th>\n",
       "    </tr>\n",
       "  </thead>\n",
       "  <tbody>\n",
       "    <tr>\n",
       "      <th>3</th>\n",
       "      <td>0</td>\n",
       "      <td>0</td>\n",
       "      <td>0</td>\n",
       "      <td>0</td>\n",
       "      <td>1</td>\n",
       "      <td>0</td>\n",
       "      <td>0</td>\n",
       "      <td>1</td>\n",
       "      <td>0</td>\n",
       "      <td>0</td>\n",
       "      <td>...</td>\n",
       "      <td>0</td>\n",
       "      <td>0</td>\n",
       "      <td>0</td>\n",
       "      <td>0</td>\n",
       "      <td>0</td>\n",
       "      <td>0</td>\n",
       "      <td>0</td>\n",
       "      <td>0</td>\n",
       "      <td>0</td>\n",
       "      <td>Man</td>\n",
       "    </tr>\n",
       "    <tr>\n",
       "      <th>4</th>\n",
       "      <td>0</td>\n",
       "      <td>0</td>\n",
       "      <td>0</td>\n",
       "      <td>0</td>\n",
       "      <td>0</td>\n",
       "      <td>0</td>\n",
       "      <td>0</td>\n",
       "      <td>0</td>\n",
       "      <td>0</td>\n",
       "      <td>0</td>\n",
       "      <td>...</td>\n",
       "      <td>0</td>\n",
       "      <td>0</td>\n",
       "      <td>0</td>\n",
       "      <td>0</td>\n",
       "      <td>0</td>\n",
       "      <td>0</td>\n",
       "      <td>0</td>\n",
       "      <td>0</td>\n",
       "      <td>0</td>\n",
       "      <td>Man</td>\n",
       "    </tr>\n",
       "    <tr>\n",
       "      <th>9</th>\n",
       "      <td>0</td>\n",
       "      <td>0</td>\n",
       "      <td>0</td>\n",
       "      <td>1</td>\n",
       "      <td>0</td>\n",
       "      <td>1</td>\n",
       "      <td>1</td>\n",
       "      <td>1</td>\n",
       "      <td>0</td>\n",
       "      <td>0</td>\n",
       "      <td>...</td>\n",
       "      <td>0</td>\n",
       "      <td>0</td>\n",
       "      <td>0</td>\n",
       "      <td>0</td>\n",
       "      <td>0</td>\n",
       "      <td>0</td>\n",
       "      <td>0</td>\n",
       "      <td>0</td>\n",
       "      <td>0</td>\n",
       "      <td>Man</td>\n",
       "    </tr>\n",
       "    <tr>\n",
       "      <th>10</th>\n",
       "      <td>0</td>\n",
       "      <td>1</td>\n",
       "      <td>1</td>\n",
       "      <td>1</td>\n",
       "      <td>0</td>\n",
       "      <td>0</td>\n",
       "      <td>0</td>\n",
       "      <td>1</td>\n",
       "      <td>1</td>\n",
       "      <td>0</td>\n",
       "      <td>...</td>\n",
       "      <td>0</td>\n",
       "      <td>0</td>\n",
       "      <td>0</td>\n",
       "      <td>0</td>\n",
       "      <td>0</td>\n",
       "      <td>0</td>\n",
       "      <td>0</td>\n",
       "      <td>0</td>\n",
       "      <td>0</td>\n",
       "      <td>NaN</td>\n",
       "    </tr>\n",
       "    <tr>\n",
       "      <th>13</th>\n",
       "      <td>0</td>\n",
       "      <td>1</td>\n",
       "      <td>0</td>\n",
       "      <td>1</td>\n",
       "      <td>0</td>\n",
       "      <td>1</td>\n",
       "      <td>0</td>\n",
       "      <td>1</td>\n",
       "      <td>1</td>\n",
       "      <td>0</td>\n",
       "      <td>...</td>\n",
       "      <td>1</td>\n",
       "      <td>1</td>\n",
       "      <td>1</td>\n",
       "      <td>0</td>\n",
       "      <td>0</td>\n",
       "      <td>0</td>\n",
       "      <td>1</td>\n",
       "      <td>0</td>\n",
       "      <td>1</td>\n",
       "      <td>Man</td>\n",
       "    </tr>\n",
       "    <tr>\n",
       "      <th>...</th>\n",
       "      <td>...</td>\n",
       "      <td>...</td>\n",
       "      <td>...</td>\n",
       "      <td>...</td>\n",
       "      <td>...</td>\n",
       "      <td>...</td>\n",
       "      <td>...</td>\n",
       "      <td>...</td>\n",
       "      <td>...</td>\n",
       "      <td>...</td>\n",
       "      <td>...</td>\n",
       "      <td>...</td>\n",
       "      <td>...</td>\n",
       "      <td>...</td>\n",
       "      <td>...</td>\n",
       "      <td>...</td>\n",
       "      <td>...</td>\n",
       "      <td>...</td>\n",
       "      <td>...</td>\n",
       "      <td>...</td>\n",
       "      <td>...</td>\n",
       "    </tr>\n",
       "    <tr>\n",
       "      <th>88876</th>\n",
       "      <td>0</td>\n",
       "      <td>0</td>\n",
       "      <td>0</td>\n",
       "      <td>0</td>\n",
       "      <td>0</td>\n",
       "      <td>0</td>\n",
       "      <td>0</td>\n",
       "      <td>1</td>\n",
       "      <td>0</td>\n",
       "      <td>0</td>\n",
       "      <td>...</td>\n",
       "      <td>0</td>\n",
       "      <td>0</td>\n",
       "      <td>0</td>\n",
       "      <td>0</td>\n",
       "      <td>0</td>\n",
       "      <td>0</td>\n",
       "      <td>0</td>\n",
       "      <td>0</td>\n",
       "      <td>0</td>\n",
       "      <td>Man</td>\n",
       "    </tr>\n",
       "    <tr>\n",
       "      <th>88878</th>\n",
       "      <td>0</td>\n",
       "      <td>0</td>\n",
       "      <td>0</td>\n",
       "      <td>0</td>\n",
       "      <td>0</td>\n",
       "      <td>0</td>\n",
       "      <td>0</td>\n",
       "      <td>1</td>\n",
       "      <td>0</td>\n",
       "      <td>0</td>\n",
       "      <td>...</td>\n",
       "      <td>0</td>\n",
       "      <td>0</td>\n",
       "      <td>0</td>\n",
       "      <td>0</td>\n",
       "      <td>0</td>\n",
       "      <td>0</td>\n",
       "      <td>0</td>\n",
       "      <td>0</td>\n",
       "      <td>0</td>\n",
       "      <td>Man</td>\n",
       "    </tr>\n",
       "    <tr>\n",
       "      <th>88879</th>\n",
       "      <td>0</td>\n",
       "      <td>0</td>\n",
       "      <td>0</td>\n",
       "      <td>0</td>\n",
       "      <td>0</td>\n",
       "      <td>0</td>\n",
       "      <td>1</td>\n",
       "      <td>0</td>\n",
       "      <td>1</td>\n",
       "      <td>1</td>\n",
       "      <td>...</td>\n",
       "      <td>0</td>\n",
       "      <td>0</td>\n",
       "      <td>0</td>\n",
       "      <td>0</td>\n",
       "      <td>0</td>\n",
       "      <td>0</td>\n",
       "      <td>0</td>\n",
       "      <td>0</td>\n",
       "      <td>0</td>\n",
       "      <td>Man</td>\n",
       "    </tr>\n",
       "    <tr>\n",
       "      <th>88881</th>\n",
       "      <td>0</td>\n",
       "      <td>0</td>\n",
       "      <td>0</td>\n",
       "      <td>0</td>\n",
       "      <td>0</td>\n",
       "      <td>0</td>\n",
       "      <td>0</td>\n",
       "      <td>0</td>\n",
       "      <td>0</td>\n",
       "      <td>0</td>\n",
       "      <td>...</td>\n",
       "      <td>0</td>\n",
       "      <td>1</td>\n",
       "      <td>0</td>\n",
       "      <td>0</td>\n",
       "      <td>0</td>\n",
       "      <td>0</td>\n",
       "      <td>0</td>\n",
       "      <td>0</td>\n",
       "      <td>0</td>\n",
       "      <td>Man</td>\n",
       "    </tr>\n",
       "    <tr>\n",
       "      <th>88883</th>\n",
       "      <td>0</td>\n",
       "      <td>0</td>\n",
       "      <td>0</td>\n",
       "      <td>0</td>\n",
       "      <td>0</td>\n",
       "      <td>0</td>\n",
       "      <td>0</td>\n",
       "      <td>1</td>\n",
       "      <td>1</td>\n",
       "      <td>0</td>\n",
       "      <td>...</td>\n",
       "      <td>0</td>\n",
       "      <td>0</td>\n",
       "      <td>0</td>\n",
       "      <td>0</td>\n",
       "      <td>0</td>\n",
       "      <td>0</td>\n",
       "      <td>0</td>\n",
       "      <td>0</td>\n",
       "      <td>0</td>\n",
       "      <td>Man</td>\n",
       "    </tr>\n",
       "  </tbody>\n",
       "</table>\n",
       "<p>49430 rows × 25 columns</p>\n",
       "</div>"
      ],
      "text/plain": [
       "            Academic researcher  Data or business analyst  \\\n",
       "Respondent                                                  \n",
       "3                             0                         0   \n",
       "4                             0                         0   \n",
       "9                             0                         0   \n",
       "10                            0                         1   \n",
       "13                            0                         1   \n",
       "...                         ...                       ...   \n",
       "88876                         0                         0   \n",
       "88878                         0                         0   \n",
       "88879                         0                         0   \n",
       "88881                         0                         0   \n",
       "88883                         0                         0   \n",
       "\n",
       "            Data scientist or machine learning specialist  \\\n",
       "Respondent                                                  \n",
       "3                                                       0   \n",
       "4                                                       0   \n",
       "9                                                       0   \n",
       "10                                                      1   \n",
       "13                                                      0   \n",
       "...                                                   ...   \n",
       "88876                                                   0   \n",
       "88878                                                   0   \n",
       "88879                                                   0   \n",
       "88881                                                   0   \n",
       "88883                                                   0   \n",
       "\n",
       "            Database administrator  Designer  DevOps specialist  \\\n",
       "Respondent                                                        \n",
       "3                                0         1                  0   \n",
       "4                                0         0                  0   \n",
       "9                                1         0                  1   \n",
       "10                               1         0                  0   \n",
       "13                               1         0                  1   \n",
       "...                            ...       ...                ...   \n",
       "88876                            0         0                  0   \n",
       "88878                            0         0                  0   \n",
       "88879                            0         0                  0   \n",
       "88881                            0         0                  0   \n",
       "88883                            0         0                  0   \n",
       "\n",
       "            Developer, QA or test  Developer, back-end  \\\n",
       "Respondent                                               \n",
       "3                               0                    1   \n",
       "4                               0                    0   \n",
       "9                               1                    1   \n",
       "10                              0                    1   \n",
       "13                              0                    1   \n",
       "...                           ...                  ...   \n",
       "88876                           0                    1   \n",
       "88878                           0                    1   \n",
       "88879                           1                    0   \n",
       "88881                           0                    0   \n",
       "88883                           0                    1   \n",
       "\n",
       "            Developer, desktop or enterprise applications  \\\n",
       "Respondent                                                  \n",
       "3                                                       0   \n",
       "4                                                       0   \n",
       "9                                                       0   \n",
       "10                                                      1   \n",
       "13                                                      1   \n",
       "...                                                   ...   \n",
       "88876                                                   0   \n",
       "88878                                                   0   \n",
       "88879                                                   1   \n",
       "88881                                                   0   \n",
       "88883                                                   1   \n",
       "\n",
       "            Developer, embedded applications or devices  ...  Engineer, data  \\\n",
       "Respondent                                               ...                   \n",
       "3                                                     0  ...               0   \n",
       "4                                                     0  ...               0   \n",
       "9                                                     0  ...               0   \n",
       "10                                                    0  ...               0   \n",
       "13                                                    0  ...               1   \n",
       "...                                                 ...  ...             ...   \n",
       "88876                                                 0  ...               0   \n",
       "88878                                                 0  ...               0   \n",
       "88879                                                 1  ...               0   \n",
       "88881                                                 0  ...               0   \n",
       "88883                                                 0  ...               0   \n",
       "\n",
       "            Engineer, site reliability  Engineering manager  \\\n",
       "Respondent                                                    \n",
       "3                                    0                    0   \n",
       "4                                    0                    0   \n",
       "9                                    0                    0   \n",
       "10                                   0                    0   \n",
       "13                                   1                    1   \n",
       "...                                ...                  ...   \n",
       "88876                                0                    0   \n",
       "88878                                0                    0   \n",
       "88879                                0                    0   \n",
       "88881                                1                    0   \n",
       "88883                                0                    0   \n",
       "\n",
       "            Marketing or sales professional  Product manager  Scientist  \\\n",
       "Respondent                                                                \n",
       "3                                         0                0          0   \n",
       "4                                         0                0          0   \n",
       "9                                         0                0          0   \n",
       "10                                        0                0          0   \n",
       "13                                        0                0          0   \n",
       "...                                     ...              ...        ...   \n",
       "88876                                     0                0          0   \n",
       "88878                                     0                0          0   \n",
       "88879                                     0                0          0   \n",
       "88881                                     0                0          0   \n",
       "88883                                     0                0          0   \n",
       "\n",
       "            Senior executive/VP  Student  System administrator  Gender  \n",
       "Respondent                                                              \n",
       "3                             0        0                     0     Man  \n",
       "4                             0        0                     0     Man  \n",
       "9                             0        0                     0     Man  \n",
       "10                            0        0                     0     NaN  \n",
       "13                            1        0                     1     Man  \n",
       "...                         ...      ...                   ...     ...  \n",
       "88876                         0        0                     0     Man  \n",
       "88878                         0        0                     0     Man  \n",
       "88879                         0        0                     0     Man  \n",
       "88881                         0        0                     0     Man  \n",
       "88883                         0        0                     0     Man  \n",
       "\n",
       "[49430 rows x 25 columns]"
      ]
     },
     "execution_count": 22,
     "metadata": {},
     "output_type": "execute_result"
    }
   ],
   "source": [
    "devtype_df[\"Gender\"]=survey_19.loc[list(devtype_df.index)].Gender\n",
    "devtype_df"
   ]
  },
  {
   "cell_type": "code",
   "execution_count": 23,
   "metadata": {
    "scrolled": true
   },
   "outputs": [
    {
     "data": {
      "text/html": [
       "<div>\n",
       "<style scoped>\n",
       "    .dataframe tbody tr th:only-of-type {\n",
       "        vertical-align: middle;\n",
       "    }\n",
       "\n",
       "    .dataframe tbody tr th {\n",
       "        vertical-align: top;\n",
       "    }\n",
       "\n",
       "    .dataframe thead tr th {\n",
       "        text-align: left;\n",
       "    }\n",
       "\n",
       "    .dataframe thead tr:last-of-type th {\n",
       "        text-align: right;\n",
       "    }\n",
       "</style>\n",
       "<table border=\"1\" class=\"dataframe\">\n",
       "  <thead>\n",
       "    <tr>\n",
       "      <th></th>\n",
       "      <th>Academic researcher</th>\n",
       "      <th>Data or business analyst</th>\n",
       "      <th>Data scientist or machine learning specialist</th>\n",
       "      <th>Database administrator</th>\n",
       "      <th>Designer</th>\n",
       "      <th>DevOps specialist</th>\n",
       "      <th>Developer, QA or test</th>\n",
       "      <th>Developer, back-end</th>\n",
       "      <th>Developer, desktop or enterprise applications</th>\n",
       "      <th>Developer, embedded applications or devices</th>\n",
       "      <th>...</th>\n",
       "      <th>Educator</th>\n",
       "      <th>Engineer, data</th>\n",
       "      <th>Engineer, site reliability</th>\n",
       "      <th>Engineering manager</th>\n",
       "      <th>Marketing or sales professional</th>\n",
       "      <th>Product manager</th>\n",
       "      <th>Scientist</th>\n",
       "      <th>Senior executive/VP</th>\n",
       "      <th>Student</th>\n",
       "      <th>System administrator</th>\n",
       "    </tr>\n",
       "    <tr>\n",
       "      <th></th>\n",
       "      <th>sum</th>\n",
       "      <th>sum</th>\n",
       "      <th>sum</th>\n",
       "      <th>sum</th>\n",
       "      <th>sum</th>\n",
       "      <th>sum</th>\n",
       "      <th>sum</th>\n",
       "      <th>sum</th>\n",
       "      <th>sum</th>\n",
       "      <th>sum</th>\n",
       "      <th>...</th>\n",
       "      <th>sum</th>\n",
       "      <th>sum</th>\n",
       "      <th>sum</th>\n",
       "      <th>sum</th>\n",
       "      <th>sum</th>\n",
       "      <th>sum</th>\n",
       "      <th>sum</th>\n",
       "      <th>sum</th>\n",
       "      <th>sum</th>\n",
       "      <th>sum</th>\n",
       "    </tr>\n",
       "    <tr>\n",
       "      <th>Gender</th>\n",
       "      <th></th>\n",
       "      <th></th>\n",
       "      <th></th>\n",
       "      <th></th>\n",
       "      <th></th>\n",
       "      <th></th>\n",
       "      <th></th>\n",
       "      <th></th>\n",
       "      <th></th>\n",
       "      <th></th>\n",
       "      <th></th>\n",
       "      <th></th>\n",
       "      <th></th>\n",
       "      <th></th>\n",
       "      <th></th>\n",
       "      <th></th>\n",
       "      <th></th>\n",
       "      <th></th>\n",
       "      <th></th>\n",
       "      <th></th>\n",
       "      <th></th>\n",
       "    </tr>\n",
       "  </thead>\n",
       "  <tbody>\n",
       "    <tr>\n",
       "      <th>Man</th>\n",
       "      <td>2609</td>\n",
       "      <td>3313</td>\n",
       "      <td>3329</td>\n",
       "      <td>5489</td>\n",
       "      <td>4264</td>\n",
       "      <td>5850</td>\n",
       "      <td>3755</td>\n",
       "      <td>23733</td>\n",
       "      <td>9955</td>\n",
       "      <td>4001</td>\n",
       "      <td>...</td>\n",
       "      <td>2238</td>\n",
       "      <td>3301</td>\n",
       "      <td>1774</td>\n",
       "      <td>2422</td>\n",
       "      <td>320</td>\n",
       "      <td>2154</td>\n",
       "      <td>1764</td>\n",
       "      <td>1028</td>\n",
       "      <td>3173</td>\n",
       "      <td>4987</td>\n",
       "    </tr>\n",
       "    <tr>\n",
       "      <th>Non Binary</th>\n",
       "      <td>46</td>\n",
       "      <td>56</td>\n",
       "      <td>46</td>\n",
       "      <td>57</td>\n",
       "      <td>72</td>\n",
       "      <td>71</td>\n",
       "      <td>55</td>\n",
       "      <td>274</td>\n",
       "      <td>104</td>\n",
       "      <td>45</td>\n",
       "      <td>...</td>\n",
       "      <td>36</td>\n",
       "      <td>41</td>\n",
       "      <td>27</td>\n",
       "      <td>25</td>\n",
       "      <td>6</td>\n",
       "      <td>25</td>\n",
       "      <td>25</td>\n",
       "      <td>13</td>\n",
       "      <td>51</td>\n",
       "      <td>69</td>\n",
       "    </tr>\n",
       "    <tr>\n",
       "      <th>Woman</th>\n",
       "      <td>188</td>\n",
       "      <td>235</td>\n",
       "      <td>285</td>\n",
       "      <td>217</td>\n",
       "      <td>295</td>\n",
       "      <td>169</td>\n",
       "      <td>248</td>\n",
       "      <td>1322</td>\n",
       "      <td>433</td>\n",
       "      <td>142</td>\n",
       "      <td>...</td>\n",
       "      <td>159</td>\n",
       "      <td>188</td>\n",
       "      <td>53</td>\n",
       "      <td>89</td>\n",
       "      <td>40</td>\n",
       "      <td>108</td>\n",
       "      <td>131</td>\n",
       "      <td>27</td>\n",
       "      <td>234</td>\n",
       "      <td>161</td>\n",
       "    </tr>\n",
       "  </tbody>\n",
       "</table>\n",
       "<p>3 rows × 24 columns</p>\n",
       "</div>"
      ],
      "text/plain": [
       "           Academic researcher Data or business analyst  \\\n",
       "                           sum                      sum   \n",
       "Gender                                                    \n",
       "Man                       2609                     3313   \n",
       "Non Binary                  46                       56   \n",
       "Woman                      188                      235   \n",
       "\n",
       "           Data scientist or machine learning specialist  \\\n",
       "                                                     sum   \n",
       "Gender                                                     \n",
       "Man                                                 3329   \n",
       "Non Binary                                            46   \n",
       "Woman                                                285   \n",
       "\n",
       "           Database administrator Designer DevOps specialist  \\\n",
       "                              sum      sum               sum   \n",
       "Gender                                                         \n",
       "Man                          5489     4264              5850   \n",
       "Non Binary                     57       72                71   \n",
       "Woman                         217      295               169   \n",
       "\n",
       "           Developer, QA or test Developer, back-end  \\\n",
       "                             sum                 sum   \n",
       "Gender                                                 \n",
       "Man                         3755               23733   \n",
       "Non Binary                    55                 274   \n",
       "Woman                        248                1322   \n",
       "\n",
       "           Developer, desktop or enterprise applications  \\\n",
       "                                                     sum   \n",
       "Gender                                                     \n",
       "Man                                                 9955   \n",
       "Non Binary                                           104   \n",
       "Woman                                                433   \n",
       "\n",
       "           Developer, embedded applications or devices  ... Educator  \\\n",
       "                                                   sum  ...      sum   \n",
       "Gender                                                  ...            \n",
       "Man                                               4001  ...     2238   \n",
       "Non Binary                                          45  ...       36   \n",
       "Woman                                              142  ...      159   \n",
       "\n",
       "           Engineer, data Engineer, site reliability Engineering manager  \\\n",
       "                      sum                        sum                 sum   \n",
       "Gender                                                                     \n",
       "Man                  3301                       1774                2422   \n",
       "Non Binary             41                         27                  25   \n",
       "Woman                 188                         53                  89   \n",
       "\n",
       "           Marketing or sales professional Product manager Scientist  \\\n",
       "                                       sum             sum       sum   \n",
       "Gender                                                                 \n",
       "Man                                    320            2154      1764   \n",
       "Non Binary                               6              25        25   \n",
       "Woman                                   40             108       131   \n",
       "\n",
       "           Senior executive/VP Student System administrator  \n",
       "                           sum     sum                  sum  \n",
       "Gender                                                       \n",
       "Man                       1028    3173                 4987  \n",
       "Non Binary                  13      51                   69  \n",
       "Woman                       27     234                  161  \n",
       "\n",
       "[3 rows x 24 columns]"
      ]
     },
     "execution_count": 23,
     "metadata": {},
     "output_type": "execute_result"
    }
   ],
   "source": [
    "devtype_df=devtype_df.groupby(\"Gender\").agg([\"sum\"])\n",
    "devtype_df"
   ]
  },
  {
   "cell_type": "code",
   "execution_count": 24,
   "metadata": {
    "scrolled": true
   },
   "outputs": [
    {
     "data": {
      "text/plain": [
       "Man           44742\n",
       "Woman          3380\n",
       "NaN             763\n",
       "Non Binary      545\n",
       "Name: Gender, dtype: int64"
      ]
     },
     "execution_count": 24,
     "metadata": {},
     "output_type": "execute_result"
    }
   ],
   "source": [
    "survey_19.Gender.value_counts(dropna=False)"
   ]
  },
  {
   "cell_type": "code",
   "execution_count": 25,
   "metadata": {},
   "outputs": [
    {
     "data": {
      "text/plain": [
       "Index(['Man', 'Non Binary', 'Woman'], dtype='object', name='Gender')"
      ]
     },
     "execution_count": 25,
     "metadata": {},
     "output_type": "execute_result"
    }
   ],
   "source": [
    "devtype_df.index"
   ]
  },
  {
   "cell_type": "code",
   "execution_count": 26,
   "metadata": {
    "scrolled": true
   },
   "outputs": [
    {
     "data": {
      "text/html": [
       "<div>\n",
       "<style scoped>\n",
       "    .dataframe tbody tr th:only-of-type {\n",
       "        vertical-align: middle;\n",
       "    }\n",
       "\n",
       "    .dataframe tbody tr th {\n",
       "        vertical-align: top;\n",
       "    }\n",
       "\n",
       "    .dataframe thead tr th {\n",
       "        text-align: left;\n",
       "    }\n",
       "\n",
       "    .dataframe thead tr:last-of-type th {\n",
       "        text-align: right;\n",
       "    }\n",
       "</style>\n",
       "<table border=\"1\" class=\"dataframe\">\n",
       "  <thead>\n",
       "    <tr>\n",
       "      <th></th>\n",
       "      <th>Academic researcher</th>\n",
       "      <th>Data or business analyst</th>\n",
       "      <th>Data scientist or machine learning specialist</th>\n",
       "      <th>Database administrator</th>\n",
       "      <th>Designer</th>\n",
       "      <th>DevOps specialist</th>\n",
       "      <th>Developer, QA or test</th>\n",
       "      <th>Developer, back-end</th>\n",
       "      <th>Developer, desktop or enterprise applications</th>\n",
       "      <th>Developer, embedded applications or devices</th>\n",
       "      <th>...</th>\n",
       "      <th>Educator</th>\n",
       "      <th>Engineer, data</th>\n",
       "      <th>Engineer, site reliability</th>\n",
       "      <th>Engineering manager</th>\n",
       "      <th>Marketing or sales professional</th>\n",
       "      <th>Product manager</th>\n",
       "      <th>Scientist</th>\n",
       "      <th>Senior executive/VP</th>\n",
       "      <th>Student</th>\n",
       "      <th>System administrator</th>\n",
       "    </tr>\n",
       "    <tr>\n",
       "      <th></th>\n",
       "      <th>sum</th>\n",
       "      <th>sum</th>\n",
       "      <th>sum</th>\n",
       "      <th>sum</th>\n",
       "      <th>sum</th>\n",
       "      <th>sum</th>\n",
       "      <th>sum</th>\n",
       "      <th>sum</th>\n",
       "      <th>sum</th>\n",
       "      <th>sum</th>\n",
       "      <th>...</th>\n",
       "      <th>sum</th>\n",
       "      <th>sum</th>\n",
       "      <th>sum</th>\n",
       "      <th>sum</th>\n",
       "      <th>sum</th>\n",
       "      <th>sum</th>\n",
       "      <th>sum</th>\n",
       "      <th>sum</th>\n",
       "      <th>sum</th>\n",
       "      <th>sum</th>\n",
       "    </tr>\n",
       "    <tr>\n",
       "      <th>Gender</th>\n",
       "      <th></th>\n",
       "      <th></th>\n",
       "      <th></th>\n",
       "      <th></th>\n",
       "      <th></th>\n",
       "      <th></th>\n",
       "      <th></th>\n",
       "      <th></th>\n",
       "      <th></th>\n",
       "      <th></th>\n",
       "      <th></th>\n",
       "      <th></th>\n",
       "      <th></th>\n",
       "      <th></th>\n",
       "      <th></th>\n",
       "      <th></th>\n",
       "      <th></th>\n",
       "      <th></th>\n",
       "      <th></th>\n",
       "      <th></th>\n",
       "      <th></th>\n",
       "    </tr>\n",
       "  </thead>\n",
       "  <tbody>\n",
       "    <tr>\n",
       "      <th>Man</th>\n",
       "      <td>2609</td>\n",
       "      <td>3313</td>\n",
       "      <td>3329</td>\n",
       "      <td>5489</td>\n",
       "      <td>4264</td>\n",
       "      <td>5850</td>\n",
       "      <td>3755</td>\n",
       "      <td>23733</td>\n",
       "      <td>9955</td>\n",
       "      <td>4001</td>\n",
       "      <td>...</td>\n",
       "      <td>2238</td>\n",
       "      <td>3301</td>\n",
       "      <td>1774</td>\n",
       "      <td>2422</td>\n",
       "      <td>320</td>\n",
       "      <td>2154</td>\n",
       "      <td>1764</td>\n",
       "      <td>1028</td>\n",
       "      <td>3173</td>\n",
       "      <td>4987</td>\n",
       "    </tr>\n",
       "    <tr>\n",
       "      <th>Woman</th>\n",
       "      <td>188</td>\n",
       "      <td>235</td>\n",
       "      <td>285</td>\n",
       "      <td>217</td>\n",
       "      <td>295</td>\n",
       "      <td>169</td>\n",
       "      <td>248</td>\n",
       "      <td>1322</td>\n",
       "      <td>433</td>\n",
       "      <td>142</td>\n",
       "      <td>...</td>\n",
       "      <td>159</td>\n",
       "      <td>188</td>\n",
       "      <td>53</td>\n",
       "      <td>89</td>\n",
       "      <td>40</td>\n",
       "      <td>108</td>\n",
       "      <td>131</td>\n",
       "      <td>27</td>\n",
       "      <td>234</td>\n",
       "      <td>161</td>\n",
       "    </tr>\n",
       "  </tbody>\n",
       "</table>\n",
       "<p>2 rows × 24 columns</p>\n",
       "</div>"
      ],
      "text/plain": [
       "       Academic researcher Data or business analyst  \\\n",
       "                       sum                      sum   \n",
       "Gender                                                \n",
       "Man                   2609                     3313   \n",
       "Woman                  188                      235   \n",
       "\n",
       "       Data scientist or machine learning specialist Database administrator  \\\n",
       "                                                 sum                    sum   \n",
       "Gender                                                                        \n",
       "Man                                             3329                   5489   \n",
       "Woman                                            285                    217   \n",
       "\n",
       "       Designer DevOps specialist Developer, QA or test Developer, back-end  \\\n",
       "            sum               sum                   sum                 sum   \n",
       "Gender                                                                        \n",
       "Man        4264              5850                  3755               23733   \n",
       "Woman       295               169                   248                1322   \n",
       "\n",
       "       Developer, desktop or enterprise applications  \\\n",
       "                                                 sum   \n",
       "Gender                                                 \n",
       "Man                                             9955   \n",
       "Woman                                            433   \n",
       "\n",
       "       Developer, embedded applications or devices  ... Educator  \\\n",
       "                                               sum  ...      sum   \n",
       "Gender                                              ...            \n",
       "Man                                           4001  ...     2238   \n",
       "Woman                                          142  ...      159   \n",
       "\n",
       "       Engineer, data Engineer, site reliability Engineering manager  \\\n",
       "                  sum                        sum                 sum   \n",
       "Gender                                                                 \n",
       "Man              3301                       1774                2422   \n",
       "Woman             188                         53                  89   \n",
       "\n",
       "       Marketing or sales professional Product manager Scientist  \\\n",
       "                                   sum             sum       sum   \n",
       "Gender                                                             \n",
       "Man                                320            2154      1764   \n",
       "Woman                               40             108       131   \n",
       "\n",
       "       Senior executive/VP Student System administrator  \n",
       "                       sum     sum                  sum  \n",
       "Gender                                                   \n",
       "Man                   1028    3173                 4987  \n",
       "Woman                   27     234                  161  \n",
       "\n",
       "[2 rows x 24 columns]"
      ]
     },
     "execution_count": 26,
     "metadata": {},
     "output_type": "execute_result"
    }
   ],
   "source": [
    "devtype_df.loc[[\"Man\",\"Woman\"]]"
   ]
  },
  {
   "cell_type": "code",
   "execution_count": 27,
   "metadata": {},
   "outputs": [
    {
     "data": {
      "text/plain": [
       "0.07554423137097134"
      ]
     },
     "execution_count": 27,
     "metadata": {},
     "output_type": "execute_result"
    }
   ],
   "source": [
    "woman_man=len(survey_19[survey_19.Gender==\"Woman\"])/len(survey_19[survey_19.Gender==\"Man\"])\n",
    "woman_man"
   ]
  },
  {
   "cell_type": "code",
   "execution_count": 28,
   "metadata": {},
   "outputs": [
    {
     "data": {
      "text/plain": [
       "Academic researcher                            sum    0.072058\n",
       "Data or business analyst                       sum    0.070933\n",
       "Data scientist or machine learning specialist  sum    0.085611\n",
       "Database administrator                         sum    0.039534\n",
       "Designer                                       sum    0.069184\n",
       "DevOps specialist                              sum    0.028889\n",
       "Developer, QA or test                          sum    0.066045\n",
       "Developer, back-end                            sum    0.055703\n",
       "Developer, desktop or enterprise applications  sum    0.043496\n",
       "Developer, embedded applications or devices    sum    0.035491\n",
       "Developer, front-end                           sum    0.080999\n",
       "Developer, full-stack                          sum    0.060148\n",
       "Developer, game or graphics                    sum    0.043741\n",
       "Developer, mobile                              sum    0.056474\n",
       "Educator                                       sum    0.071046\n",
       "Engineer, data                                 sum    0.056952\n",
       "Engineer, site reliability                     sum    0.029876\n",
       "Engineering manager                            sum    0.036746\n",
       "Marketing or sales professional                sum    0.125000\n",
       "Product manager                                sum    0.050139\n",
       "Scientist                                      sum    0.074263\n",
       "Senior executive/VP                            sum    0.026265\n",
       "Student                                        sum    0.073747\n",
       "System administrator                           sum    0.032284\n",
       "dtype: float64"
      ]
     },
     "execution_count": 28,
     "metadata": {},
     "output_type": "execute_result"
    }
   ],
   "source": [
    "devtype_df.loc[\"Woman\"]/devtype_df.loc[\"Man\"]"
   ]
  },
  {
   "cell_type": "code",
   "execution_count": 29,
   "metadata": {},
   "outputs": [
    {
     "data": {
      "text/plain": [
       "Academic researcher                            sum    False\n",
       "Data or business analyst                       sum    False\n",
       "Data scientist or machine learning specialist  sum     True\n",
       "Database administrator                         sum    False\n",
       "Designer                                       sum    False\n",
       "DevOps specialist                              sum    False\n",
       "Developer, QA or test                          sum    False\n",
       "Developer, back-end                            sum    False\n",
       "Developer, desktop or enterprise applications  sum    False\n",
       "Developer, embedded applications or devices    sum    False\n",
       "Developer, front-end                           sum     True\n",
       "Developer, full-stack                          sum    False\n",
       "Developer, game or graphics                    sum    False\n",
       "Developer, mobile                              sum    False\n",
       "Educator                                       sum    False\n",
       "Engineer, data                                 sum    False\n",
       "Engineer, site reliability                     sum    False\n",
       "Engineering manager                            sum    False\n",
       "Marketing or sales professional                sum     True\n",
       "Product manager                                sum    False\n",
       "Scientist                                      sum    False\n",
       "Senior executive/VP                            sum    False\n",
       "Student                                        sum    False\n",
       "System administrator                           sum    False\n",
       "dtype: bool"
      ]
     },
     "execution_count": 29,
     "metadata": {},
     "output_type": "execute_result"
    }
   ],
   "source": [
    "filter_ratio=devtype_df.apply(lambda x: True if x.loc[\"Woman\"]/x.loc[\"Man\"]>woman_man else False )\n",
    "filter_ratio"
   ]
  },
  {
   "cell_type": "code",
   "execution_count": 30,
   "metadata": {},
   "outputs": [
    {
     "data": {
      "text/plain": [
       "Index(['Data scientist or machine learning specialist', 'Developer, front-end',\n",
       "       'Marketing or sales professional'],\n",
       "      dtype='object')"
      ]
     },
     "execution_count": 30,
     "metadata": {},
     "output_type": "execute_result"
    }
   ],
   "source": [
    "devtype_df.loc[:,filter_ratio].columns.get_level_values(0)"
   ]
  },
  {
   "cell_type": "markdown",
   "metadata": {
    "id": "VWMNjNh1LQjw"
   },
   "source": [
    "### Soru 5: \n",
    "Ankete katılım sayısı bakımından ilk ve son 10 ülkeyi tek bir figürde yan yana iki ayrı alt grafik (subplot) olacak şekilde pasta grafiği ile gösteriniz."
   ]
  },
  {
   "cell_type": "code",
   "execution_count": 31,
   "metadata": {
    "id": "CrgswFRPLQjx",
    "outputId": "7d8daf8e-2187-4525-e581-40db53826773"
   },
   "outputs": [
    {
     "data": {
      "text/plain": [
       "Text(0.5, 1.0, 'LOW')"
      ]
     },
     "execution_count": 31,
     "metadata": {},
     "output_type": "execute_result"
    },
    {
     "data": {
      "image/png": "[encoded data removed]",
      "text/plain": [
       "<Figure size 1440x1440 with 2 Axes>"
      ]
     },
     "metadata": {},
     "output_type": "display_data"
    }
   ],
   "source": [
    "df_topdown=survey_19.groupby(\"Country\").size().sort_values(ascending=False)\n",
    "df_high=df_topdown.head(10)\n",
    "df_low=df_topdown.tail(10)               \n",
    "fig,axes=plt.subplots(1,2,figsize=(20,20))\n",
    "df_high.plot.pie(ax=axes[0],autopct='%1.1f%%').set_title(\"HIGH\")\n",
    "df_low.plot.pie(ax=axes[1],autopct='%1.1f%%').set_title(\"LOW\")"
   ]
  },
  {
   "cell_type": "markdown",
   "metadata": {
    "id": "dhEr_a8gLQjy"
   },
   "source": [
    "### Soru 6: \n",
    "Veri Bilimcilerin (```DevType``` sütununda ```Data scientist or machine learning specialist``` değerini içeren) en çok kullandığı dil ```(LanguageWorkedWith)``` nedir? Tüm kullandıkları dillerin yüzdelerini bulunuz ve yatay bar plot olarak gösteriniz."
   ]
  },
  {
   "cell_type": "code",
   "execution_count": 32,
   "metadata": {
    "scrolled": true
   },
   "outputs": [
    {
     "data": {
      "text/plain": [
       "Assembly                  227\n",
       "Bash/Shell/PowerShell    1779\n",
       "C                         782\n",
       "C#                        822\n",
       "C++                      1083\n",
       "Clojure                    69\n",
       "Dart                       50\n",
       "Elixir                     55\n",
       "Erlang                     47\n",
       "F#                         37\n",
       "Go                        328\n",
       "HTML/CSS                 1766\n",
       "Java                     1282\n",
       "JavaScript               1889\n",
       "Kotlin                    146\n",
       "Objective-C               118\n",
       "Other(s):                 402\n",
       "PHP                       580\n",
       "Python                   3053\n",
       "R                        1194\n",
       "Ruby                      240\n",
       "Rust                      129\n",
       "SQL                      2238\n",
       "Scala                     376\n",
       "Swift                     160\n",
       "TypeScript                510\n",
       "VBA                       271\n",
       "WebAssembly                46\n",
       "dtype: int64"
      ]
     },
     "execution_count": 32,
     "metadata": {},
     "output_type": "execute_result"
    }
   ],
   "source": [
    "df_new=survey_19[survey_19.DevType.str.contains(\"Data scientist or machine learning specialist\",regex=True)]\n",
    "language=pd.Series(df_new.LanguageWorkedWith.str.get_dummies(sep=';').sum(axis=0))\n",
    "language\n",
    "#df_new=survey_19[survey_19.DevType.str.contains(\"Data scientist or machine learning specialist\",regex=True)]\n",
    "#language_df=df_new.LanguageWorkedWith.str.split(\";\",expand=True)\n",
    "#language_df=language_df.apply(pd.Series.value_counts).fillna(0)\n",
    "#language_list=language_df.sum(axis=1)\n",
    "#language_list"
   ]
  },
  {
   "cell_type": "code",
   "execution_count": 33,
   "metadata": {},
   "outputs": [
    {
     "data": {
      "text/plain": [
       "Assembly                  1.153514\n",
       "Bash/Shell/PowerShell     9.040094\n",
       "C                         3.973779\n",
       "C#                        4.177042\n",
       "C++                       5.503328\n",
       "Clojure                   0.350628\n",
       "Dart                      0.254078\n",
       "Elixir                    0.279486\n",
       "Erlang                    0.238833\n",
       "F#                        0.188018\n",
       "Go                        1.666751\n",
       "HTML/CSS                  8.974033\n",
       "Java                      6.514559\n",
       "JavaScript                9.599065\n",
       "Kotlin                    0.741908\n",
       "Objective-C               0.599624\n",
       "Other(s):                 2.042787\n",
       "PHP                       2.947304\n",
       "Python                   15.514000\n",
       "R                         6.067381\n",
       "Ruby                      1.219574\n",
       "Rust                      0.655521\n",
       "SQL                      11.372529\n",
       "Scala                     1.910666\n",
       "Swift                     0.813049\n",
       "TypeScript                2.591595\n",
       "VBA                       1.377102\n",
       "WebAssembly               0.233752\n",
       "dtype: float64"
      ]
     },
     "execution_count": 33,
     "metadata": {},
     "output_type": "execute_result"
    }
   ],
   "source": [
    "language_percent=language.apply(lambda x:x/language.sum()*100)\n",
    "language_percent"
   ]
  },
  {
   "cell_type": "code",
   "execution_count": 34,
   "metadata": {
    "id": "Jsbop7-SLQj0",
    "outputId": "f4f4089e-ca4f-43e7-baef-7c1bbf6f8f63"
   },
   "outputs": [
    {
     "data": {
      "text/plain": [
       "<matplotlib.axes._subplots.AxesSubplot at 0x2a2b7a33610>"
      ]
     },
     "execution_count": 34,
     "metadata": {},
     "output_type": "execute_result"
    },
    {
     "data": {
      "image/png": "[encoded data removed]",
      "text/plain": [
       "<Figure size 432x288 with 1 Axes>"
      ]
     },
     "metadata": {
      "needs_background": "light"
     },
     "output_type": "display_data"
    }
   ],
   "source": [
    "language_percent.plot.barh(color=\"k\")"
   ]
  },
  {
   "cell_type": "markdown",
   "metadata": {
    "id": "frm6kZOOLQj1"
   },
   "source": [
    "### Soru 7:\n",
    "* Haftalık çalışma saatlerinin ```(WorkWeekHrs)``` ülke bazlı ortalama, standart sapma ve medyan değerlerinden oluşan bir dataframe oluşturunuz.\n",
    "* Ortalamaya göre büyükten küçüğe sıralayınız. \n",
    "* Türkiye'nin kaçıncı sırada olduğunu ve haftalık çalışma saatini bulunuz."
   ]
  },
  {
   "cell_type": "code",
   "execution_count": 35,
   "metadata": {
    "id": "DE5F8StkLQj2",
    "outputId": "96f23440-eafb-42a7-d411-492a081b76bf"
   },
   "outputs": [
    {
     "data": {
      "text/html": [
       "<div>\n",
       "<style scoped>\n",
       "    .dataframe tbody tr th:only-of-type {\n",
       "        vertical-align: middle;\n",
       "    }\n",
       "\n",
       "    .dataframe tbody tr th {\n",
       "        vertical-align: top;\n",
       "    }\n",
       "\n",
       "    .dataframe thead th {\n",
       "        text-align: right;\n",
       "    }\n",
       "</style>\n",
       "<table border=\"1\" class=\"dataframe\">\n",
       "  <thead>\n",
       "    <tr style=\"text-align: right;\">\n",
       "      <th></th>\n",
       "      <th>mean</th>\n",
       "      <th>std</th>\n",
       "      <th>median</th>\n",
       "    </tr>\n",
       "    <tr>\n",
       "      <th>Country</th>\n",
       "      <th></th>\n",
       "      <th></th>\n",
       "      <th></th>\n",
       "    </tr>\n",
       "  </thead>\n",
       "  <tbody>\n",
       "    <tr>\n",
       "      <th>Afghanistan</th>\n",
       "      <td>42.375000</td>\n",
       "      <td>6.390562</td>\n",
       "      <td>42.5</td>\n",
       "    </tr>\n",
       "    <tr>\n",
       "      <th>Albania</th>\n",
       "      <td>39.918367</td>\n",
       "      <td>11.095864</td>\n",
       "      <td>40.0</td>\n",
       "    </tr>\n",
       "    <tr>\n",
       "      <th>Algeria</th>\n",
       "      <td>35.357143</td>\n",
       "      <td>11.140527</td>\n",
       "      <td>40.0</td>\n",
       "    </tr>\n",
       "    <tr>\n",
       "      <th>Andorra</th>\n",
       "      <td>42.000000</td>\n",
       "      <td>2.828427</td>\n",
       "      <td>42.0</td>\n",
       "    </tr>\n",
       "    <tr>\n",
       "      <th>Angola</th>\n",
       "      <td>45.000000</td>\n",
       "      <td>NaN</td>\n",
       "      <td>45.0</td>\n",
       "    </tr>\n",
       "    <tr>\n",
       "      <th>...</th>\n",
       "      <td>...</td>\n",
       "      <td>...</td>\n",
       "      <td>...</td>\n",
       "    </tr>\n",
       "    <tr>\n",
       "      <th>Venezuela, Bolivarian Republic of...</th>\n",
       "      <td>33.741935</td>\n",
       "      <td>12.431057</td>\n",
       "      <td>40.0</td>\n",
       "    </tr>\n",
       "    <tr>\n",
       "      <th>Viet Nam</th>\n",
       "      <td>41.243243</td>\n",
       "      <td>8.293934</td>\n",
       "      <td>40.0</td>\n",
       "    </tr>\n",
       "    <tr>\n",
       "      <th>Yemen</th>\n",
       "      <td>45.000000</td>\n",
       "      <td>16.583124</td>\n",
       "      <td>40.0</td>\n",
       "    </tr>\n",
       "    <tr>\n",
       "      <th>Zambia</th>\n",
       "      <td>47.500000</td>\n",
       "      <td>14.053469</td>\n",
       "      <td>40.0</td>\n",
       "    </tr>\n",
       "    <tr>\n",
       "      <th>Zimbabwe</th>\n",
       "      <td>48.000000</td>\n",
       "      <td>15.389390</td>\n",
       "      <td>50.0</td>\n",
       "    </tr>\n",
       "  </tbody>\n",
       "</table>\n",
       "<p>158 rows × 3 columns</p>\n",
       "</div>"
      ],
      "text/plain": [
       "                                           mean        std  median\n",
       "Country                                                           \n",
       "Afghanistan                           42.375000   6.390562    42.5\n",
       "Albania                               39.918367  11.095864    40.0\n",
       "Algeria                               35.357143  11.140527    40.0\n",
       "Andorra                               42.000000   2.828427    42.0\n",
       "Angola                                45.000000        NaN    45.0\n",
       "...                                         ...        ...     ...\n",
       "Venezuela, Bolivarian Republic of...  33.741935  12.431057    40.0\n",
       "Viet Nam                              41.243243   8.293934    40.0\n",
       "Yemen                                 45.000000  16.583124    40.0\n",
       "Zambia                                47.500000  14.053469    40.0\n",
       "Zimbabwe                              48.000000  15.389390    50.0\n",
       "\n",
       "[158 rows x 3 columns]"
      ]
     },
     "execution_count": 35,
     "metadata": {},
     "output_type": "execute_result"
    }
   ],
   "source": [
    "Country_WorkWeekHrs=survey_19.groupby(\"Country\").WorkWeekHrs.agg([\"mean\",\"std\",\"median\"])\n",
    "#Country_WorkWeekHrs=survey_19.groupby(\"Country\")[\"WorkWeekHrs\"].describe()[[\"mean\",\"std\",\"50%\"]]\n",
    "Country_WorkWeekHrs"
   ]
  },
  {
   "cell_type": "code",
   "execution_count": 36,
   "metadata": {
    "id": "ST9Z_qo9LQj3",
    "outputId": "1327b91a-5d5d-47da-99c4-abe3dbf71278",
    "scrolled": true
   },
   "outputs": [
    {
     "data": {
      "text/html": [
       "<div>\n",
       "<style scoped>\n",
       "    .dataframe tbody tr th:only-of-type {\n",
       "        vertical-align: middle;\n",
       "    }\n",
       "\n",
       "    .dataframe tbody tr th {\n",
       "        vertical-align: top;\n",
       "    }\n",
       "\n",
       "    .dataframe thead th {\n",
       "        text-align: right;\n",
       "    }\n",
       "</style>\n",
       "<table border=\"1\" class=\"dataframe\">\n",
       "  <thead>\n",
       "    <tr style=\"text-align: right;\">\n",
       "      <th></th>\n",
       "      <th>Country</th>\n",
       "      <th>mean</th>\n",
       "    </tr>\n",
       "  </thead>\n",
       "  <tbody>\n",
       "    <tr>\n",
       "      <th>0</th>\n",
       "      <td>Mali</td>\n",
       "      <td>70.000000</td>\n",
       "    </tr>\n",
       "    <tr>\n",
       "      <th>1</th>\n",
       "      <td>Turkmenistan</td>\n",
       "      <td>52.333333</td>\n",
       "    </tr>\n",
       "    <tr>\n",
       "      <th>2</th>\n",
       "      <td>Burundi</td>\n",
       "      <td>50.000000</td>\n",
       "    </tr>\n",
       "    <tr>\n",
       "      <th>3</th>\n",
       "      <td>Seychelles</td>\n",
       "      <td>50.000000</td>\n",
       "    </tr>\n",
       "    <tr>\n",
       "      <th>4</th>\n",
       "      <td>Libyan Arab Jamahiriya</td>\n",
       "      <td>50.000000</td>\n",
       "    </tr>\n",
       "    <tr>\n",
       "      <th>...</th>\n",
       "      <td>...</td>\n",
       "      <td>...</td>\n",
       "    </tr>\n",
       "    <tr>\n",
       "      <th>153</th>\n",
       "      <td>Myanmar</td>\n",
       "      <td>31.444444</td>\n",
       "    </tr>\n",
       "    <tr>\n",
       "      <th>154</th>\n",
       "      <td>Somalia</td>\n",
       "      <td>30.750000</td>\n",
       "    </tr>\n",
       "    <tr>\n",
       "      <th>155</th>\n",
       "      <td>Rwanda</td>\n",
       "      <td>28.400000</td>\n",
       "    </tr>\n",
       "    <tr>\n",
       "      <th>156</th>\n",
       "      <td>Guinea</td>\n",
       "      <td>20.000000</td>\n",
       "    </tr>\n",
       "    <tr>\n",
       "      <th>157</th>\n",
       "      <td>Lao People's Democratic Republic</td>\n",
       "      <td>8.000000</td>\n",
       "    </tr>\n",
       "  </tbody>\n",
       "</table>\n",
       "<p>158 rows × 2 columns</p>\n",
       "</div>"
      ],
      "text/plain": [
       "                              Country       mean\n",
       "0                                Mali  70.000000\n",
       "1                        Turkmenistan  52.333333\n",
       "2                             Burundi  50.000000\n",
       "3                          Seychelles  50.000000\n",
       "4              Libyan Arab Jamahiriya  50.000000\n",
       "..                                ...        ...\n",
       "153                           Myanmar  31.444444\n",
       "154                           Somalia  30.750000\n",
       "155                            Rwanda  28.400000\n",
       "156                            Guinea  20.000000\n",
       "157  Lao People's Democratic Republic   8.000000\n",
       "\n",
       "[158 rows x 2 columns]"
      ]
     },
     "execution_count": 36,
     "metadata": {},
     "output_type": "execute_result"
    }
   ],
   "source": [
    "df_workwheekhrs_sort=Country_WorkWeekHrs.sort_values(by=\"mean\",ascending=False).reset_index()[[\"Country\",\"mean\"]]\n",
    "df_workwheekhrs_sort"
   ]
  },
  {
   "cell_type": "code",
   "execution_count": 37,
   "metadata": {
    "id": "jJKvzjG1LQj6",
    "outputId": "20ef7063-66e2-47c8-e330-c030d0ee8cde"
   },
   "outputs": [
    {
     "name": "stdout",
     "output_type": "stream",
     "text": [
      "Türkiyenin sıralaması:37 Haftalık Çalışma Saati:41.09061833688699\n"
     ]
    }
   ],
   "source": [
    "Turkey_rank=df_workwheekhrs_sort[df_workwheekhrs_sort.Country==\"Turkey\"].index[0]\n",
    "print(\"Türkiyenin sıralaması:{0} Haftalık Çalışma Saati:{1}\".format(Turkey_rank,df_workwheekhrs_sort.loc[Turkey_rank][\"mean\"]))"
   ]
  },
  {
   "cell_type": "markdown",
   "metadata": {
    "id": "gLg2C3AYLQj7"
   },
   "source": [
    "### Soru 8:\n",
    "Ankete katılanların ortalama haftada kaç saat kod incelediği bilgisini ```(CodeRevHrs)``` kullanarak 40 saatten az kod inceleyenler ile bir histogram (bins=20) çiziniz.\n"
   ]
  },
  {
   "cell_type": "code",
   "execution_count": 38,
   "metadata": {
    "id": "lm0w3fbILQj8",
    "outputId": "2c8e9995-bfcb-415f-fbe9-c173a41e817f",
    "scrolled": false
   },
   "outputs": [
    {
     "data": {
      "text/plain": [
       "<matplotlib.axes._subplots.AxesSubplot at 0x2a2b7bf20d0>"
      ]
     },
     "execution_count": 38,
     "metadata": {},
     "output_type": "execute_result"
    },
    {
     "data": {
      "image/png": "[encoded data removed]",
      "text/plain": [
       "<Figure size 432x288 with 1 Axes>"
      ]
     },
     "metadata": {
      "needs_background": "light"
     },
     "output_type": "display_data"
    }
   ],
   "source": [
    "df_CodeRevHrs=survey_19[survey_19.CodeRevHrs<40][\"CodeRevHrs\"]\n",
    "df_CodeRevHrs.plot.hist(bins=20,alpha=1,grid=True,legend=True)           "
   ]
  },
  {
   "cell_type": "markdown",
   "metadata": {
    "id": "ZYfowFChLQj9"
   },
   "source": [
    "### Soru 9:\n",
    "* ```MainBranch``` sütununda bulunan değerleri aşağıdaki değerler ile değiştirin.\n",
    "\n",
    "    ``` {'I am a student who is learning to code': 'Student',\n",
    "    'I am not primarily a developer, but I write code sometimes as part of my work': 'Not a Developer',\n",
    "    'I am a developer by profession':  'Developer',\n",
    "    'I code primarily as a hobby':   'Code as hobby',\n",
    "    'I used to be a developer by profession, but no longer am': 'Was a Developer'} \n",
    "    ```\n",
    "* Ana branş ```(MainBranch)``` X-ekseninde olacak şekilde her bir branştakilerin sayısını bar plot ile gösteriniz. Her bir bar, Cinsiyet ```(Gender)``` sayısına göre yığıt (stacked) şeklinde gösterilmelidir. \n",
    "* Ana branşı ```Developer``` olan ve Türkiye'den ankete katılanların eğitim seviyelerine göre dağılımını pasta grafiği ile gösteriniz."
   ]
  },
  {
   "cell_type": "markdown",
   "metadata": {},
   "source": [
    "#### ```MainBranch``` sütununda bulunan değerleri aşağıdaki değerler ile değiştirin.\n",
    "\n",
    "    ``` {'I am a student who is learning to code': 'Student',\n",
    "    'I am not primarily a developer, but I write code sometimes as part of my work': 'Not a Developer',\n",
    "    'I am a developer by profession':  'Developer',\n",
    "    'I code primarily as a hobby':   'Code as hobby',\n",
    "    'I used to be a developer by profession, but no longer am': 'Was a Developer'} "
   ]
  },
  {
   "cell_type": "code",
   "execution_count": 39,
   "metadata": {
    "id": "SiVrsOObLQj-",
    "outputId": "665a9eab-e2fb-4856-c101-f44044422ce5"
   },
   "outputs": [],
   "source": [
    "mainbranch_dict={'I am a student who is learning to code': 'Student',\n",
    "  'I am not primarily a developer, but I write code sometimes as part of my work': 'Not a Developer',\n",
    "  'I am a developer by profession':  'Developer',\n",
    "  'I code primarily as a hobby':   'Code as hobby',\n",
    "  'I used to be a developer by profession, but no longer am': 'Was a Developer'}\n",
    "survey_19.MainBranch.replace(mainbranch_dict,inplace=True)"
   ]
  },
  {
   "cell_type": "markdown",
   "metadata": {},
   "source": [
    "#### Ana branş ```(MainBranch)``` X-ekseninde olacak şekilde her bir branştakilerin sayısını bar plot ile gösteriniz. Her bir bar, Cinsiyet ```(Gender)``` sayısına göre yığıt (stacked) şeklinde gösterilmelidir. "
   ]
  },
  {
   "cell_type": "code",
   "execution_count": 40,
   "metadata": {},
   "outputs": [
    {
     "data": {
      "text/html": [
       "<div>\n",
       "<style scoped>\n",
       "    .dataframe tbody tr th:only-of-type {\n",
       "        vertical-align: middle;\n",
       "    }\n",
       "\n",
       "    .dataframe tbody tr th {\n",
       "        vertical-align: top;\n",
       "    }\n",
       "\n",
       "    .dataframe thead th {\n",
       "        text-align: right;\n",
       "    }\n",
       "</style>\n",
       "<table border=\"1\" class=\"dataframe\">\n",
       "  <thead>\n",
       "    <tr style=\"text-align: right;\">\n",
       "      <th></th>\n",
       "      <th>MainBranch</th>\n",
       "      <th>Gender</th>\n",
       "      <th>Size</th>\n",
       "    </tr>\n",
       "  </thead>\n",
       "  <tbody>\n",
       "    <tr>\n",
       "      <th>0</th>\n",
       "      <td>Developer</td>\n",
       "      <td>Man</td>\n",
       "      <td>40865</td>\n",
       "    </tr>\n",
       "    <tr>\n",
       "      <th>1</th>\n",
       "      <td>Developer</td>\n",
       "      <td>Non Binary</td>\n",
       "      <td>475</td>\n",
       "    </tr>\n",
       "    <tr>\n",
       "      <th>2</th>\n",
       "      <td>Developer</td>\n",
       "      <td>Woman</td>\n",
       "      <td>2975</td>\n",
       "    </tr>\n",
       "    <tr>\n",
       "      <th>3</th>\n",
       "      <td>Not a Developer</td>\n",
       "      <td>Man</td>\n",
       "      <td>3877</td>\n",
       "    </tr>\n",
       "    <tr>\n",
       "      <th>4</th>\n",
       "      <td>Not a Developer</td>\n",
       "      <td>Non Binary</td>\n",
       "      <td>70</td>\n",
       "    </tr>\n",
       "    <tr>\n",
       "      <th>5</th>\n",
       "      <td>Not a Developer</td>\n",
       "      <td>Woman</td>\n",
       "      <td>405</td>\n",
       "    </tr>\n",
       "  </tbody>\n",
       "</table>\n",
       "</div>"
      ],
      "text/plain": [
       "        MainBranch      Gender   Size\n",
       "0        Developer         Man  40865\n",
       "1        Developer  Non Binary    475\n",
       "2        Developer       Woman   2975\n",
       "3  Not a Developer         Man   3877\n",
       "4  Not a Developer  Non Binary     70\n",
       "5  Not a Developer       Woman    405"
      ]
     },
     "execution_count": 40,
     "metadata": {},
     "output_type": "execute_result"
    }
   ],
   "source": [
    "df_MainBranch=pd.DataFrame(survey_19.groupby([\"MainBranch\",\"Gender\"]).size(),columns=[\"Size\"])\n",
    "df_MainBranch=pd.DataFrame(df_MainBranch.reset_index(level=[0,1]))\n",
    "df_MainBranch"
   ]
  },
  {
   "cell_type": "code",
   "execution_count": 41,
   "metadata": {
    "id": "XX5O_SQkLQj_",
    "outputId": "4a33eb14-ce0f-4e72-834a-8c619bf282b8"
   },
   "outputs": [
    {
     "data": {
      "text/html": [
       "<div>\n",
       "<style scoped>\n",
       "    .dataframe tbody tr th:only-of-type {\n",
       "        vertical-align: middle;\n",
       "    }\n",
       "\n",
       "    .dataframe tbody tr th {\n",
       "        vertical-align: top;\n",
       "    }\n",
       "\n",
       "    .dataframe thead th {\n",
       "        text-align: right;\n",
       "    }\n",
       "</style>\n",
       "<table border=\"1\" class=\"dataframe\">\n",
       "  <thead>\n",
       "    <tr style=\"text-align: right;\">\n",
       "      <th>Gender</th>\n",
       "      <th>Man</th>\n",
       "      <th>Non Binary</th>\n",
       "      <th>Woman</th>\n",
       "    </tr>\n",
       "    <tr>\n",
       "      <th>MainBranch</th>\n",
       "      <th></th>\n",
       "      <th></th>\n",
       "      <th></th>\n",
       "    </tr>\n",
       "  </thead>\n",
       "  <tbody>\n",
       "    <tr>\n",
       "      <th>Developer</th>\n",
       "      <td>40865</td>\n",
       "      <td>475</td>\n",
       "      <td>2975</td>\n",
       "    </tr>\n",
       "    <tr>\n",
       "      <th>Not a Developer</th>\n",
       "      <td>3877</td>\n",
       "      <td>70</td>\n",
       "      <td>405</td>\n",
       "    </tr>\n",
       "  </tbody>\n",
       "</table>\n",
       "</div>"
      ],
      "text/plain": [
       "Gender             Man  Non Binary  Woman\n",
       "MainBranch                               \n",
       "Developer        40865         475   2975\n",
       "Not a Developer   3877          70    405"
      ]
     },
     "execution_count": 41,
     "metadata": {},
     "output_type": "execute_result"
    }
   ],
   "source": [
    "df_MainBranch=df_MainBranch.pivot(index=\"MainBranch\",columns=\"Gender\",values=\"Size\")\n",
    "df_MainBranch"
   ]
  },
  {
   "cell_type": "code",
   "execution_count": 42,
   "metadata": {
    "id": "cqeUnVxoLQkA",
    "outputId": "8ac8c06c-4c0a-4496-987d-3fbcb5d20c58",
    "scrolled": true
   },
   "outputs": [
    {
     "data": {
      "text/plain": [
       "<matplotlib.axes._subplots.AxesSubplot at 0x2a2ba193b20>"
      ]
     },
     "execution_count": 42,
     "metadata": {},
     "output_type": "execute_result"
    },
    {
     "data": {
      "image/png": "[encoded data removed]",
      "text/plain": [
       "<Figure size 720x720 with 1 Axes>"
      ]
     },
     "metadata": {
      "needs_background": "light"
     },
     "output_type": "display_data"
    }
   ],
   "source": [
    "df_MainBranch.plot.bar(stacked=True,figsize=(10,10),grid=True)"
   ]
  },
  {
   "cell_type": "markdown",
   "metadata": {},
   "source": [
    "#### Ana branşı ```Developer``` olan ve Türkiye'den ankete katılanların eğitim seviyelerine göre dağılımını pasta grafiği ile gösteriniz."
   ]
  },
  {
   "cell_type": "code",
   "execution_count": 43,
   "metadata": {
    "id": "5be5e-5tLQkB",
    "outputId": "f899f575-51ad-41fb-843d-711fdefecda1"
   },
   "outputs": [
    {
     "data": {
      "text/plain": [
       "<matplotlib.axes._subplots.AxesSubplot at 0x2a2ba7228b0>"
      ]
     },
     "execution_count": 43,
     "metadata": {},
     "output_type": "execute_result"
    },
    {
     "data": {
      "image/png": "[encoded data removed]",
      "text/plain": [
       "<Figure size 1440x1440 with 1 Axes>"
      ]
     },
     "metadata": {},
     "output_type": "display_data"
    }
   ],
   "source": [
    "df_developer_turkey=survey_19[np.logical_and(survey_19.MainBranch==\"Developer\",survey_19.Country==\"Turkey\")]\n",
    "df_developer_turkey_education=df_developer_turkey.EdLevel.value_counts()\n",
    "df_developer_turkey_education.plot.pie(autopct='%1.1f%%',figsize=(20,20),fontsize=30)"
   ]
  },
  {
   "cell_type": "markdown",
   "metadata": {
    "id": "eUQjytRTLQkC"
   },
   "source": [
    "### Soru 10:\n",
    "Türkiye'den ankete katılan ve TL cinsinden maaş alanların ortalama yıllık brüt maaşını bulunuz. \n",
    "* ```CurrencySymbol, CompTotal ve CompFreq``` sütunlarını kullanın.\n",
    "* Her üç sütundan herhangi biri NaN olan satırları ihmal ediniz. \n",
    "* Frekansı ```(CompFreq)``` haftalık olanlar için bir yılı 50 hafta, aylık olanlar için ise 12 ay olarak düşününüz."
   ]
  },
  {
   "cell_type": "code",
   "execution_count": 44,
   "metadata": {
    "id": "niMKF8_tLQkD",
    "scrolled": false
   },
   "outputs": [],
   "source": [
    "df_turkey_maas=survey_19[np.logical_and(survey_19.Country==\"Turkey\",survey_19.CurrencySymbol==\"TRY\")][[\"CurrencySymbol\",\"CompTotal\",\"CompFreq\",\"ConvertedComp\"]]\n",
    "df_turkey_maas.dropna(subset=[\"CurrencySymbol\",\"CompTotal\",\"CompFreq\"],inplace=True)"
   ]
  },
  {
   "cell_type": "code",
   "execution_count": 45,
   "metadata": {},
   "outputs": [
    {
     "data": {
      "text/html": [
       "<div>\n",
       "<style scoped>\n",
       "    .dataframe tbody tr th:only-of-type {\n",
       "        vertical-align: middle;\n",
       "    }\n",
       "\n",
       "    .dataframe tbody tr th {\n",
       "        vertical-align: top;\n",
       "    }\n",
       "\n",
       "    .dataframe thead th {\n",
       "        text-align: right;\n",
       "    }\n",
       "</style>\n",
       "<table border=\"1\" class=\"dataframe\">\n",
       "  <thead>\n",
       "    <tr style=\"text-align: right;\">\n",
       "      <th></th>\n",
       "      <th>Yıllık Brüt</th>\n",
       "    </tr>\n",
       "    <tr>\n",
       "      <th>Respondent</th>\n",
       "      <th></th>\n",
       "    </tr>\n",
       "  </thead>\n",
       "  <tbody>\n",
       "    <tr>\n",
       "      <th>123</th>\n",
       "      <td>96000.0</td>\n",
       "    </tr>\n",
       "    <tr>\n",
       "      <th>699</th>\n",
       "      <td>120000.0</td>\n",
       "    </tr>\n",
       "    <tr>\n",
       "      <th>718</th>\n",
       "      <td>160000.0</td>\n",
       "    </tr>\n",
       "    <tr>\n",
       "      <th>803</th>\n",
       "      <td>144000.0</td>\n",
       "    </tr>\n",
       "    <tr>\n",
       "      <th>968</th>\n",
       "      <td>98400.0</td>\n",
       "    </tr>\n",
       "    <tr>\n",
       "      <th>1013</th>\n",
       "      <td>30000.0</td>\n",
       "    </tr>\n",
       "    <tr>\n",
       "      <th>1088</th>\n",
       "      <td>67200.0</td>\n",
       "    </tr>\n",
       "    <tr>\n",
       "      <th>1676</th>\n",
       "      <td>194400.0</td>\n",
       "    </tr>\n",
       "    <tr>\n",
       "      <th>1709</th>\n",
       "      <td>66000.0</td>\n",
       "    </tr>\n",
       "    <tr>\n",
       "      <th>1784</th>\n",
       "      <td>60000.0</td>\n",
       "    </tr>\n",
       "  </tbody>\n",
       "</table>\n",
       "</div>"
      ],
      "text/plain": [
       "            Yıllık Brüt\n",
       "Respondent             \n",
       "123             96000.0\n",
       "699            120000.0\n",
       "718            160000.0\n",
       "803            144000.0\n",
       "968             98400.0\n",
       "1013            30000.0\n",
       "1088            67200.0\n",
       "1676           194400.0\n",
       "1709            66000.0\n",
       "1784            60000.0"
      ]
     },
     "execution_count": 45,
     "metadata": {},
     "output_type": "execute_result"
    }
   ],
   "source": [
    "pd.DataFrame(df_turkey_maas.\n",
    "             apply(lambda x:x[\"CompTotal\"]*12 if x[\"CompFreq\"]==\"Monthly\" \n",
    "                                            else x[\"CompTotal\"]*50 if x[\"CompFreq\"]==\"Monthly\" \n",
    "                                            else x[\"CompTotal\"],\n",
    "                                            axis=1),\n",
    "             columns=[\"Yıllık Brüt\"]).head(10)"
   ]
  },
  {
   "cell_type": "code",
   "execution_count": 46,
   "metadata": {
    "id": "oyNLXALMLQkE",
    "outputId": "29736f01-6d2c-40a4-9b4a-4b03014647b7"
   },
   "outputs": [
    {
     "data": {
      "text/html": [
       "<div>\n",
       "<style scoped>\n",
       "    .dataframe tbody tr th:only-of-type {\n",
       "        vertical-align: middle;\n",
       "    }\n",
       "\n",
       "    .dataframe tbody tr th {\n",
       "        vertical-align: top;\n",
       "    }\n",
       "\n",
       "    .dataframe thead th {\n",
       "        text-align: right;\n",
       "    }\n",
       "</style>\n",
       "<table border=\"1\" class=\"dataframe\">\n",
       "  <thead>\n",
       "    <tr style=\"text-align: right;\">\n",
       "      <th></th>\n",
       "      <th>CurrencySymbol</th>\n",
       "      <th>CompTotal</th>\n",
       "      <th>CompFreq</th>\n",
       "      <th>ConvertedComp</th>\n",
       "      <th>Yıllık Ortalama Brüt</th>\n",
       "    </tr>\n",
       "    <tr>\n",
       "      <th>Respondent</th>\n",
       "      <th></th>\n",
       "      <th></th>\n",
       "      <th></th>\n",
       "      <th></th>\n",
       "      <th></th>\n",
       "    </tr>\n",
       "  </thead>\n",
       "  <tbody>\n",
       "    <tr>\n",
       "      <th>123</th>\n",
       "      <td>TRY</td>\n",
       "      <td>8000.0</td>\n",
       "      <td>Monthly</td>\n",
       "      <td>18432.0</td>\n",
       "      <td>96000.0</td>\n",
       "    </tr>\n",
       "    <tr>\n",
       "      <th>699</th>\n",
       "      <td>TRY</td>\n",
       "      <td>10000.0</td>\n",
       "      <td>Monthly</td>\n",
       "      <td>23040.0</td>\n",
       "      <td>120000.0</td>\n",
       "    </tr>\n",
       "    <tr>\n",
       "      <th>718</th>\n",
       "      <td>TRY</td>\n",
       "      <td>160000.0</td>\n",
       "      <td>Yearly</td>\n",
       "      <td>30720.0</td>\n",
       "      <td>160000.0</td>\n",
       "    </tr>\n",
       "    <tr>\n",
       "      <th>803</th>\n",
       "      <td>TRY</td>\n",
       "      <td>12000.0</td>\n",
       "      <td>Monthly</td>\n",
       "      <td>27648.0</td>\n",
       "      <td>144000.0</td>\n",
       "    </tr>\n",
       "    <tr>\n",
       "      <th>968</th>\n",
       "      <td>TRY</td>\n",
       "      <td>8200.0</td>\n",
       "      <td>Monthly</td>\n",
       "      <td>18888.0</td>\n",
       "      <td>98400.0</td>\n",
       "    </tr>\n",
       "    <tr>\n",
       "      <th>1013</th>\n",
       "      <td>TRY</td>\n",
       "      <td>2500.0</td>\n",
       "      <td>Monthly</td>\n",
       "      <td>5760.0</td>\n",
       "      <td>30000.0</td>\n",
       "    </tr>\n",
       "    <tr>\n",
       "      <th>1088</th>\n",
       "      <td>TRY</td>\n",
       "      <td>5600.0</td>\n",
       "      <td>Monthly</td>\n",
       "      <td>12900.0</td>\n",
       "      <td>67200.0</td>\n",
       "    </tr>\n",
       "    <tr>\n",
       "      <th>1676</th>\n",
       "      <td>TRY</td>\n",
       "      <td>194400.0</td>\n",
       "      <td>Yearly</td>\n",
       "      <td>37325.0</td>\n",
       "      <td>194400.0</td>\n",
       "    </tr>\n",
       "    <tr>\n",
       "      <th>1709</th>\n",
       "      <td>TRY</td>\n",
       "      <td>5500.0</td>\n",
       "      <td>Monthly</td>\n",
       "      <td>12672.0</td>\n",
       "      <td>66000.0</td>\n",
       "    </tr>\n",
       "    <tr>\n",
       "      <th>1784</th>\n",
       "      <td>TRY</td>\n",
       "      <td>5000.0</td>\n",
       "      <td>Monthly</td>\n",
       "      <td>11520.0</td>\n",
       "      <td>60000.0</td>\n",
       "    </tr>\n",
       "  </tbody>\n",
       "</table>\n",
       "</div>"
      ],
      "text/plain": [
       "           CurrencySymbol  CompTotal CompFreq  ConvertedComp  \\\n",
       "Respondent                                                     \n",
       "123                   TRY     8000.0  Monthly        18432.0   \n",
       "699                   TRY    10000.0  Monthly        23040.0   \n",
       "718                   TRY   160000.0   Yearly        30720.0   \n",
       "803                   TRY    12000.0  Monthly        27648.0   \n",
       "968                   TRY     8200.0  Monthly        18888.0   \n",
       "1013                  TRY     2500.0  Monthly         5760.0   \n",
       "1088                  TRY     5600.0  Monthly        12900.0   \n",
       "1676                  TRY   194400.0   Yearly        37325.0   \n",
       "1709                  TRY     5500.0  Monthly        12672.0   \n",
       "1784                  TRY     5000.0  Monthly        11520.0   \n",
       "\n",
       "            Yıllık Ortalama Brüt  \n",
       "Respondent                        \n",
       "123                      96000.0  \n",
       "699                     120000.0  \n",
       "718                     160000.0  \n",
       "803                     144000.0  \n",
       "968                      98400.0  \n",
       "1013                     30000.0  \n",
       "1088                     67200.0  \n",
       "1676                    194400.0  \n",
       "1709                     66000.0  \n",
       "1784                     60000.0  "
      ]
     },
     "execution_count": 46,
     "metadata": {},
     "output_type": "execute_result"
    }
   ],
   "source": [
    "monthly=pd.DataFrame(df_turkey_maas[df_turkey_maas.CompFreq==\"Monthly\"].CompTotal*12)\n",
    "weekly=pd.DataFrame(df_turkey_maas[df_turkey_maas.CompFreq==\"Weekly\"].CompTotal*50)\n",
    "yearly=pd.DataFrame(df_turkey_maas[df_turkey_maas.CompFreq==\"Yearly\"].CompTotal)\n",
    "salary_list=[monthly,weekly,yearly]\n",
    "df_turkey_maas[\"Yıllık Ortalama Brüt\"]=pd.concat(salary_list)\n",
    "df_turkey_maas.head(10)"
   ]
  },
  {
   "cell_type": "markdown",
   "metadata": {
    "id": "QTh5ZY1qLQkF"
   },
   "source": [
    "### Soru 11:\n",
    "Her bir işletim sistemi ```(OpSys)``` için,  açık kaynağa katkı verme sıklıklarına ```(OpenSourcer)``` göre anketör sayılarını bar grafik ile gösteriniz."
   ]
  },
  {
   "cell_type": "code",
   "execution_count": 47,
   "metadata": {
    "id": "P7OZsw_PLQkF",
    "outputId": "571478ff-d336-4e7a-8402-d62f9d1b4600",
    "scrolled": true
   },
   "outputs": [
    {
     "data": {
      "text/html": [
       "<div>\n",
       "<style scoped>\n",
       "    .dataframe tbody tr th:only-of-type {\n",
       "        vertical-align: middle;\n",
       "    }\n",
       "\n",
       "    .dataframe tbody tr th {\n",
       "        vertical-align: top;\n",
       "    }\n",
       "\n",
       "    .dataframe thead th {\n",
       "        text-align: right;\n",
       "    }\n",
       "</style>\n",
       "<table border=\"1\" class=\"dataframe\">\n",
       "  <thead>\n",
       "    <tr style=\"text-align: right;\">\n",
       "      <th></th>\n",
       "      <th>OpenSourcer</th>\n",
       "      <th>Size</th>\n",
       "    </tr>\n",
       "    <tr>\n",
       "      <th>OpSys</th>\n",
       "      <th></th>\n",
       "      <th></th>\n",
       "    </tr>\n",
       "  </thead>\n",
       "  <tbody>\n",
       "    <tr>\n",
       "      <th>BSD</th>\n",
       "      <td>Less than once a month but more than once per ...</td>\n",
       "      <td>10</td>\n",
       "    </tr>\n",
       "    <tr>\n",
       "      <th>BSD</th>\n",
       "      <td>Less than once per year</td>\n",
       "      <td>13</td>\n",
       "    </tr>\n",
       "    <tr>\n",
       "      <th>BSD</th>\n",
       "      <td>Never</td>\n",
       "      <td>8</td>\n",
       "    </tr>\n",
       "    <tr>\n",
       "      <th>BSD</th>\n",
       "      <td>Once a month or more often</td>\n",
       "      <td>8</td>\n",
       "    </tr>\n",
       "    <tr>\n",
       "      <th>Linux-based</th>\n",
       "      <td>Less than once a month but more than once per ...</td>\n",
       "      <td>3509</td>\n",
       "    </tr>\n",
       "    <tr>\n",
       "      <th>Linux-based</th>\n",
       "      <td>Less than once per year</td>\n",
       "      <td>3491</td>\n",
       "    </tr>\n",
       "    <tr>\n",
       "      <th>Linux-based</th>\n",
       "      <td>Never</td>\n",
       "      <td>3023</td>\n",
       "    </tr>\n",
       "    <tr>\n",
       "      <th>Linux-based</th>\n",
       "      <td>Once a month or more often</td>\n",
       "      <td>2024</td>\n",
       "    </tr>\n",
       "    <tr>\n",
       "      <th>MacOS</th>\n",
       "      <td>Less than once a month but more than once per ...</td>\n",
       "      <td>4322</td>\n",
       "    </tr>\n",
       "    <tr>\n",
       "      <th>MacOS</th>\n",
       "      <td>Less than once per year</td>\n",
       "      <td>4664</td>\n",
       "    </tr>\n",
       "  </tbody>\n",
       "</table>\n",
       "</div>"
      ],
      "text/plain": [
       "                                                   OpenSourcer  Size\n",
       "OpSys                                                               \n",
       "BSD          Less than once a month but more than once per ...    10\n",
       "BSD                                    Less than once per year    13\n",
       "BSD                                                      Never     8\n",
       "BSD                                 Once a month or more often     8\n",
       "Linux-based  Less than once a month but more than once per ...  3509\n",
       "Linux-based                            Less than once per year  3491\n",
       "Linux-based                                              Never  3023\n",
       "Linux-based                         Once a month or more often  2024\n",
       "MacOS        Less than once a month but more than once per ...  4322\n",
       "MacOS                                  Less than once per year  4664"
      ]
     },
     "execution_count": 47,
     "metadata": {},
     "output_type": "execute_result"
    }
   ],
   "source": [
    "df_OpSys=pd.DataFrame(survey_19.groupby([\"OpSys\",\"OpenSourcer\"]).size(),columns=[\"Size\"])\n",
    "df_OpSys.reset_index(level=[1],inplace=True)\n",
    "df_OpSys.head(10)"
   ]
  },
  {
   "cell_type": "code",
   "execution_count": 48,
   "metadata": {
    "id": "L3pGISj8LQkG",
    "outputId": "1df66b6c-eafc-4971-b98c-79e361a8e180"
   },
   "outputs": [
    {
     "data": {
      "text/html": [
       "<div>\n",
       "<style scoped>\n",
       "    .dataframe tbody tr th:only-of-type {\n",
       "        vertical-align: middle;\n",
       "    }\n",
       "\n",
       "    .dataframe tbody tr th {\n",
       "        vertical-align: top;\n",
       "    }\n",
       "\n",
       "    .dataframe thead th {\n",
       "        text-align: right;\n",
       "    }\n",
       "</style>\n",
       "<table border=\"1\" class=\"dataframe\">\n",
       "  <thead>\n",
       "    <tr style=\"text-align: right;\">\n",
       "      <th>OpenSourcer</th>\n",
       "      <th>Less than once a month but more than once per year</th>\n",
       "      <th>Less than once per year</th>\n",
       "      <th>Never</th>\n",
       "      <th>Once a month or more often</th>\n",
       "    </tr>\n",
       "    <tr>\n",
       "      <th>OpSys</th>\n",
       "      <th></th>\n",
       "      <th></th>\n",
       "      <th></th>\n",
       "      <th></th>\n",
       "    </tr>\n",
       "  </thead>\n",
       "  <tbody>\n",
       "    <tr>\n",
       "      <th>BSD</th>\n",
       "      <td>10</td>\n",
       "      <td>13</td>\n",
       "      <td>8</td>\n",
       "      <td>8</td>\n",
       "    </tr>\n",
       "    <tr>\n",
       "      <th>Linux-based</th>\n",
       "      <td>3509</td>\n",
       "      <td>3491</td>\n",
       "      <td>3023</td>\n",
       "      <td>2024</td>\n",
       "    </tr>\n",
       "    <tr>\n",
       "      <th>MacOS</th>\n",
       "      <td>4322</td>\n",
       "      <td>4664</td>\n",
       "      <td>4172</td>\n",
       "      <td>1872</td>\n",
       "    </tr>\n",
       "    <tr>\n",
       "      <th>Windows</th>\n",
       "      <td>4218</td>\n",
       "      <td>6498</td>\n",
       "      <td>9726</td>\n",
       "      <td>1631</td>\n",
       "    </tr>\n",
       "  </tbody>\n",
       "</table>\n",
       "</div>"
      ],
      "text/plain": [
       "OpenSourcer  Less than once a month but more than once per year  \\\n",
       "OpSys                                                             \n",
       "BSD                                                         10    \n",
       "Linux-based                                               3509    \n",
       "MacOS                                                     4322    \n",
       "Windows                                                   4218    \n",
       "\n",
       "OpenSourcer  Less than once per year  Never  Once a month or more often  \n",
       "OpSys                                                                    \n",
       "BSD                               13      8                           8  \n",
       "Linux-based                     3491   3023                        2024  \n",
       "MacOS                           4664   4172                        1872  \n",
       "Windows                         6498   9726                        1631  "
      ]
     },
     "execution_count": 48,
     "metadata": {},
     "output_type": "execute_result"
    }
   ],
   "source": [
    "df_OpSys=df_OpSys.pivot(columns=\"OpenSourcer\",values=\"Size\")\n",
    "df_OpSys"
   ]
  },
  {
   "cell_type": "code",
   "execution_count": 49,
   "metadata": {
    "id": "--lnEBcnLQkG",
    "outputId": "b9955ad9-7589-4eba-8f19-13bbaed5d3d4"
   },
   "outputs": [
    {
     "data": {
      "text/plain": [
       "<matplotlib.axes._subplots.AxesSubplot at 0x2a2b710bdc0>"
      ]
     },
     "execution_count": 49,
     "metadata": {},
     "output_type": "execute_result"
    },
    {
     "data": {
      "image/png": "[encoded data removed]",
      "text/plain": [
       "<Figure size 720x720 with 1 Axes>"
      ]
     },
     "metadata": {
      "needs_background": "light"
     },
     "output_type": "display_data"
    }
   ],
   "source": [
    "df_OpSys.plot.bar(figsize=(10,10),grid=True)"
   ]
  },
  {
   "cell_type": "markdown",
   "metadata": {
    "id": "Go6TGeLtLQkH"
   },
   "source": [
    "### Soru 12:\n",
    "* Ülkelerdeki eğitim düzeyi ```(EdLevel)``` oranlarını içeren __country_edlevels__ adında bir dataframe oluşturunuz. (Satır ülkeler, sütun eğitim düzeyleri olacak şekilde)\n",
    "* Ankete en çok katılım gösteren 5 ülkeyi, her bir eğitim düzeyi oranı için karşılaştırmalı olarak gösteren bir bar plot çiziniz."
   ]
  },
  {
   "cell_type": "code",
   "execution_count": 50,
   "metadata": {
    "id": "ACG__jGwLQkI",
    "outputId": "7f661799-f9ce-4ee9-cdf5-8875a143b324"
   },
   "outputs": [
    {
     "data": {
      "text/html": [
       "<div>\n",
       "<style scoped>\n",
       "    .dataframe tbody tr th:only-of-type {\n",
       "        vertical-align: middle;\n",
       "    }\n",
       "\n",
       "    .dataframe tbody tr th {\n",
       "        vertical-align: top;\n",
       "    }\n",
       "\n",
       "    .dataframe thead th {\n",
       "        text-align: right;\n",
       "    }\n",
       "</style>\n",
       "<table border=\"1\" class=\"dataframe\">\n",
       "  <thead>\n",
       "    <tr style=\"text-align: right;\">\n",
       "      <th></th>\n",
       "      <th>EdLevel</th>\n",
       "      <th>Size</th>\n",
       "    </tr>\n",
       "    <tr>\n",
       "      <th>Country</th>\n",
       "      <th></th>\n",
       "      <th></th>\n",
       "    </tr>\n",
       "  </thead>\n",
       "  <tbody>\n",
       "    <tr>\n",
       "      <th>Afghanistan</th>\n",
       "      <td>Bachelor’s degree (BA, BS, B.Eng., etc.)</td>\n",
       "      <td>7</td>\n",
       "    </tr>\n",
       "    <tr>\n",
       "      <th>Afghanistan</th>\n",
       "      <td>Secondary school (e.g. American high school, G...</td>\n",
       "      <td>1</td>\n",
       "    </tr>\n",
       "    <tr>\n",
       "      <th>Albania</th>\n",
       "      <td>Bachelor’s degree (BA, BS, B.Eng., etc.)</td>\n",
       "      <td>24</td>\n",
       "    </tr>\n",
       "    <tr>\n",
       "      <th>Albania</th>\n",
       "      <td>Master’s degree (MA, MS, M.Eng., MBA, etc.)</td>\n",
       "      <td>18</td>\n",
       "    </tr>\n",
       "    <tr>\n",
       "      <th>Albania</th>\n",
       "      <td>Professional degree (JD, MD, etc.)</td>\n",
       "      <td>1</td>\n",
       "    </tr>\n",
       "  </tbody>\n",
       "</table>\n",
       "</div>"
      ],
      "text/plain": [
       "                                                       EdLevel  Size\n",
       "Country                                                             \n",
       "Afghanistan           Bachelor’s degree (BA, BS, B.Eng., etc.)     7\n",
       "Afghanistan  Secondary school (e.g. American high school, G...     1\n",
       "Albania               Bachelor’s degree (BA, BS, B.Eng., etc.)    24\n",
       "Albania            Master’s degree (MA, MS, M.Eng., MBA, etc.)    18\n",
       "Albania                     Professional degree (JD, MD, etc.)     1"
      ]
     },
     "execution_count": 50,
     "metadata": {},
     "output_type": "execute_result"
    }
   ],
   "source": [
    "country_edlevels=pd.DataFrame(survey_19.groupby([\"Country\",\"EdLevel\"]).size(),columns=[\"Size\"]).reset_index(level=[1])\n",
    "country_edlevels.head(5)"
   ]
  },
  {
   "cell_type": "code",
   "execution_count": 51,
   "metadata": {
    "id": "i5zsWfF6LQkI",
    "outputId": "26943104-8d58-490d-81ed-2a4b8fd4d257"
   },
   "outputs": [
    {
     "data": {
      "text/html": [
       "<div>\n",
       "<style scoped>\n",
       "    .dataframe tbody tr th:only-of-type {\n",
       "        vertical-align: middle;\n",
       "    }\n",
       "\n",
       "    .dataframe tbody tr th {\n",
       "        vertical-align: top;\n",
       "    }\n",
       "\n",
       "    .dataframe thead th {\n",
       "        text-align: right;\n",
       "    }\n",
       "</style>\n",
       "<table border=\"1\" class=\"dataframe\">\n",
       "  <thead>\n",
       "    <tr style=\"text-align: right;\">\n",
       "      <th>EdLevel</th>\n",
       "      <th>Associate degree</th>\n",
       "      <th>Bachelor’s degree (BA, BS, B.Eng., etc.)</th>\n",
       "      <th>I never completed any formal education</th>\n",
       "      <th>Master’s degree (MA, MS, M.Eng., MBA, etc.)</th>\n",
       "      <th>Other doctoral degree (Ph.D, Ed.D., etc.)</th>\n",
       "      <th>Primary/elementary school</th>\n",
       "      <th>Professional degree (JD, MD, etc.)</th>\n",
       "      <th>Secondary school (e.g. American high school, German Realschule or Gymnasium, etc.)</th>\n",
       "      <th>Some college/university study without earning a degree</th>\n",
       "    </tr>\n",
       "    <tr>\n",
       "      <th>Country</th>\n",
       "      <th></th>\n",
       "      <th></th>\n",
       "      <th></th>\n",
       "      <th></th>\n",
       "      <th></th>\n",
       "      <th></th>\n",
       "      <th></th>\n",
       "      <th></th>\n",
       "      <th></th>\n",
       "    </tr>\n",
       "  </thead>\n",
       "  <tbody>\n",
       "    <tr>\n",
       "      <th>Afghanistan</th>\n",
       "      <td>0.0</td>\n",
       "      <td>7.0</td>\n",
       "      <td>0.0</td>\n",
       "      <td>0.0</td>\n",
       "      <td>0.0</td>\n",
       "      <td>0.0</td>\n",
       "      <td>0.0</td>\n",
       "      <td>1.0</td>\n",
       "      <td>0.0</td>\n",
       "    </tr>\n",
       "    <tr>\n",
       "      <th>Albania</th>\n",
       "      <td>0.0</td>\n",
       "      <td>24.0</td>\n",
       "      <td>0.0</td>\n",
       "      <td>18.0</td>\n",
       "      <td>0.0</td>\n",
       "      <td>0.0</td>\n",
       "      <td>1.0</td>\n",
       "      <td>3.0</td>\n",
       "      <td>3.0</td>\n",
       "    </tr>\n",
       "    <tr>\n",
       "      <th>Algeria</th>\n",
       "      <td>0.0</td>\n",
       "      <td>5.0</td>\n",
       "      <td>0.0</td>\n",
       "      <td>22.0</td>\n",
       "      <td>1.0</td>\n",
       "      <td>1.0</td>\n",
       "      <td>1.0</td>\n",
       "      <td>0.0</td>\n",
       "      <td>2.0</td>\n",
       "    </tr>\n",
       "    <tr>\n",
       "      <th>Andorra</th>\n",
       "      <td>0.0</td>\n",
       "      <td>0.0</td>\n",
       "      <td>1.0</td>\n",
       "      <td>0.0</td>\n",
       "      <td>0.0</td>\n",
       "      <td>1.0</td>\n",
       "      <td>0.0</td>\n",
       "      <td>0.0</td>\n",
       "      <td>0.0</td>\n",
       "    </tr>\n",
       "    <tr>\n",
       "      <th>Argentina</th>\n",
       "      <td>20.0</td>\n",
       "      <td>99.0</td>\n",
       "      <td>2.0</td>\n",
       "      <td>38.0</td>\n",
       "      <td>5.0</td>\n",
       "      <td>2.0</td>\n",
       "      <td>19.0</td>\n",
       "      <td>42.0</td>\n",
       "      <td>145.0</td>\n",
       "    </tr>\n",
       "  </tbody>\n",
       "</table>\n",
       "</div>"
      ],
      "text/plain": [
       "EdLevel      Associate degree  Bachelor’s degree (BA, BS, B.Eng., etc.)  \\\n",
       "Country                                                                   \n",
       "Afghanistan               0.0                                       7.0   \n",
       "Albania                   0.0                                      24.0   \n",
       "Algeria                   0.0                                       5.0   \n",
       "Andorra                   0.0                                       0.0   \n",
       "Argentina                20.0                                      99.0   \n",
       "\n",
       "EdLevel      I never completed any formal education  \\\n",
       "Country                                               \n",
       "Afghanistan                                     0.0   \n",
       "Albania                                         0.0   \n",
       "Algeria                                         0.0   \n",
       "Andorra                                         1.0   \n",
       "Argentina                                       2.0   \n",
       "\n",
       "EdLevel      Master’s degree (MA, MS, M.Eng., MBA, etc.)  \\\n",
       "Country                                                    \n",
       "Afghanistan                                          0.0   \n",
       "Albania                                             18.0   \n",
       "Algeria                                             22.0   \n",
       "Andorra                                              0.0   \n",
       "Argentina                                           38.0   \n",
       "\n",
       "EdLevel      Other doctoral degree (Ph.D, Ed.D., etc.)  \\\n",
       "Country                                                  \n",
       "Afghanistan                                        0.0   \n",
       "Albania                                            0.0   \n",
       "Algeria                                            1.0   \n",
       "Andorra                                            0.0   \n",
       "Argentina                                          5.0   \n",
       "\n",
       "EdLevel      Primary/elementary school  Professional degree (JD, MD, etc.)  \\\n",
       "Country                                                                      \n",
       "Afghanistan                        0.0                                 0.0   \n",
       "Albania                            0.0                                 1.0   \n",
       "Algeria                            1.0                                 1.0   \n",
       "Andorra                            1.0                                 0.0   \n",
       "Argentina                          2.0                                19.0   \n",
       "\n",
       "EdLevel      Secondary school (e.g. American high school, German Realschule or Gymnasium, etc.)  \\\n",
       "Country                                                                                           \n",
       "Afghanistan                                                1.0                                    \n",
       "Albania                                                    3.0                                    \n",
       "Algeria                                                    0.0                                    \n",
       "Andorra                                                    0.0                                    \n",
       "Argentina                                                 42.0                                    \n",
       "\n",
       "EdLevel      Some college/university study without earning a degree  \n",
       "Country                                                              \n",
       "Afghanistan                                                0.0       \n",
       "Albania                                                    3.0       \n",
       "Algeria                                                    2.0       \n",
       "Andorra                                                    0.0       \n",
       "Argentina                                                145.0       "
      ]
     },
     "execution_count": 51,
     "metadata": {},
     "output_type": "execute_result"
    }
   ],
   "source": [
    "country_edlevels=country_edlevels.pivot(columns=\"EdLevel\",values=\"Size\").fillna(0)\n",
    "country_edlevels.head(5)"
   ]
  },
  {
   "cell_type": "code",
   "execution_count": 52,
   "metadata": {
    "id": "TfNjIiMOLQkJ",
    "outputId": "1424f0e9-1e50-4612-bde1-eda66e21e4cf",
    "scrolled": true
   },
   "outputs": [
    {
     "data": {
      "text/html": [
       "<div>\n",
       "<style scoped>\n",
       "    .dataframe tbody tr th:only-of-type {\n",
       "        vertical-align: middle;\n",
       "    }\n",
       "\n",
       "    .dataframe tbody tr th {\n",
       "        vertical-align: top;\n",
       "    }\n",
       "\n",
       "    .dataframe thead th {\n",
       "        text-align: right;\n",
       "    }\n",
       "</style>\n",
       "<table border=\"1\" class=\"dataframe\">\n",
       "  <thead>\n",
       "    <tr style=\"text-align: right;\">\n",
       "      <th>EdLevel</th>\n",
       "      <th>Associate degree</th>\n",
       "      <th>Bachelor’s degree (BA, BS, B.Eng., etc.)</th>\n",
       "      <th>I never completed any formal education</th>\n",
       "      <th>Master’s degree (MA, MS, M.Eng., MBA, etc.)</th>\n",
       "      <th>Other doctoral degree (Ph.D, Ed.D., etc.)</th>\n",
       "      <th>Primary/elementary school</th>\n",
       "      <th>Professional degree (JD, MD, etc.)</th>\n",
       "      <th>Secondary school (e.g. American high school, German Realschule or Gymnasium, etc.)</th>\n",
       "      <th>Some college/university study without earning a degree</th>\n",
       "    </tr>\n",
       "    <tr>\n",
       "      <th>Country</th>\n",
       "      <th></th>\n",
       "      <th></th>\n",
       "      <th></th>\n",
       "      <th></th>\n",
       "      <th></th>\n",
       "      <th></th>\n",
       "      <th></th>\n",
       "      <th></th>\n",
       "      <th></th>\n",
       "    </tr>\n",
       "  </thead>\n",
       "  <tbody>\n",
       "    <tr>\n",
       "      <th>United States</th>\n",
       "      <td>573.0</td>\n",
       "      <td>7606.0</td>\n",
       "      <td>34.0</td>\n",
       "      <td>2221.0</td>\n",
       "      <td>361.0</td>\n",
       "      <td>37.0</td>\n",
       "      <td>56.0</td>\n",
       "      <td>274.0</td>\n",
       "      <td>1557.0</td>\n",
       "    </tr>\n",
       "    <tr>\n",
       "      <th>India</th>\n",
       "      <td>17.0</td>\n",
       "      <td>2535.0</td>\n",
       "      <td>4.0</td>\n",
       "      <td>840.0</td>\n",
       "      <td>9.0</td>\n",
       "      <td>3.0</td>\n",
       "      <td>14.0</td>\n",
       "      <td>29.0</td>\n",
       "      <td>80.0</td>\n",
       "    </tr>\n",
       "    <tr>\n",
       "      <th>Germany</th>\n",
       "      <td>129.0</td>\n",
       "      <td>993.0</td>\n",
       "      <td>6.0</td>\n",
       "      <td>1180.0</td>\n",
       "      <td>156.0</td>\n",
       "      <td>14.0</td>\n",
       "      <td>37.0</td>\n",
       "      <td>464.0</td>\n",
       "      <td>367.0</td>\n",
       "    </tr>\n",
       "    <tr>\n",
       "      <th>United Kingdom</th>\n",
       "      <td>44.0</td>\n",
       "      <td>1617.0</td>\n",
       "      <td>7.0</td>\n",
       "      <td>780.0</td>\n",
       "      <td>164.0</td>\n",
       "      <td>6.0</td>\n",
       "      <td>9.0</td>\n",
       "      <td>162.0</td>\n",
       "      <td>468.0</td>\n",
       "    </tr>\n",
       "    <tr>\n",
       "      <th>Canada</th>\n",
       "      <td>217.0</td>\n",
       "      <td>1071.0</td>\n",
       "      <td>12.0</td>\n",
       "      <td>295.0</td>\n",
       "      <td>46.0</td>\n",
       "      <td>5.0</td>\n",
       "      <td>15.0</td>\n",
       "      <td>63.0</td>\n",
       "      <td>219.0</td>\n",
       "    </tr>\n",
       "  </tbody>\n",
       "</table>\n",
       "</div>"
      ],
      "text/plain": [
       "EdLevel         Associate degree  Bachelor’s degree (BA, BS, B.Eng., etc.)  \\\n",
       "Country                                                                      \n",
       "United States              573.0                                    7606.0   \n",
       "India                       17.0                                    2535.0   \n",
       "Germany                    129.0                                     993.0   \n",
       "United Kingdom              44.0                                    1617.0   \n",
       "Canada                     217.0                                    1071.0   \n",
       "\n",
       "EdLevel         I never completed any formal education  \\\n",
       "Country                                                  \n",
       "United States                                     34.0   \n",
       "India                                              4.0   \n",
       "Germany                                            6.0   \n",
       "United Kingdom                                     7.0   \n",
       "Canada                                            12.0   \n",
       "\n",
       "EdLevel         Master’s degree (MA, MS, M.Eng., MBA, etc.)  \\\n",
       "Country                                                       \n",
       "United States                                        2221.0   \n",
       "India                                                 840.0   \n",
       "Germany                                              1180.0   \n",
       "United Kingdom                                        780.0   \n",
       "Canada                                                295.0   \n",
       "\n",
       "EdLevel         Other doctoral degree (Ph.D, Ed.D., etc.)  \\\n",
       "Country                                                     \n",
       "United States                                       361.0   \n",
       "India                                                 9.0   \n",
       "Germany                                             156.0   \n",
       "United Kingdom                                      164.0   \n",
       "Canada                                               46.0   \n",
       "\n",
       "EdLevel         Primary/elementary school  Professional degree (JD, MD, etc.)  \\\n",
       "Country                                                                         \n",
       "United States                        37.0                                56.0   \n",
       "India                                 3.0                                14.0   \n",
       "Germany                              14.0                                37.0   \n",
       "United Kingdom                        6.0                                 9.0   \n",
       "Canada                                5.0                                15.0   \n",
       "\n",
       "EdLevel         Secondary school (e.g. American high school, German Realschule or Gymnasium, etc.)  \\\n",
       "Country                                                                                              \n",
       "United States                                               274.0                                    \n",
       "India                                                        29.0                                    \n",
       "Germany                                                     464.0                                    \n",
       "United Kingdom                                              162.0                                    \n",
       "Canada                                                       63.0                                    \n",
       "\n",
       "EdLevel         Some college/university study without earning a degree  \n",
       "Country                                                                 \n",
       "United States                                              1557.0       \n",
       "India                                                        80.0       \n",
       "Germany                                                     367.0       \n",
       "United Kingdom                                              468.0       \n",
       "Canada                                                      219.0       "
      ]
     },
     "execution_count": 52,
     "metadata": {},
     "output_type": "execute_result"
    }
   ],
   "source": [
    "top5=survey_19.Country.value_counts().head().index.tolist()\n",
    "top5_country_edlevels=country_edlevels.loc[top5]\n",
    "top5_country_edlevels"
   ]
  },
  {
   "cell_type": "code",
   "execution_count": 53,
   "metadata": {
    "id": "Pr-n75DHLQkJ",
    "outputId": "c0c36c96-a227-4264-e0b5-f6538bb1367b"
   },
   "outputs": [
    {
     "data": {
      "text/plain": [
       "<matplotlib.axes._subplots.AxesSubplot at 0x2a2b7e9bd60>"
      ]
     },
     "execution_count": 53,
     "metadata": {},
     "output_type": "execute_result"
    },
    {
     "data": {
      "image/png": "[encoded data removed]",
      "text/plain": [
       "<Figure size 1080x1080 with 1 Axes>"
      ]
     },
     "metadata": {
      "needs_background": "light"
     },
     "output_type": "display_data"
    }
   ],
   "source": [
    "top5_country_edlevels.plot.bar(figsize=(15,15),grid=True)"
   ]
  },
  {
   "cell_type": "markdown",
   "metadata": {
    "id": "SdlUK_OmLQkK"
   },
   "source": [
    "### Soru 13:\n",
    "* https://download.geonames.org/export/dump/countryInfo.txt adresindeki veriyi:\n",
    "    * ilk 49 satırını ihmal ederek\n",
    "    * yalnızca ```Country, Continent, CurrencyCode``` sütunlarını kullanarak \n",
    "    * ```Country``` sütununu indeks sütun olarak \n",
    "    * ```NA``` filtreleme yapmadan (```North America``` kıtasının kısaltması olan ```NA```'yı ```NaN``` değer olarak okumamak için)\n",
    "  \n",
    "  okuyarak __country_info__ adlı DataFrame'e aktarınız.\n",
    "  \n",
    "  \n",
    "*     \n",
    "\n",
    "           {AF : Africa\n",
    "            AS : Asia\t\t\t\n",
    "            EU : Europe\t\t\t\n",
    "            NA : North America\t\t\n",
    "            OC : Oceania\t\t\t\n",
    "            SA : South America\t\t\n",
    "            AN : Antarctica\t} \n",
    "\n",
    "   yukarıdaki haritalamayı kullanarak kıta isimlerini içeren ```ContinentName``` isimli yeni bir sütun oluşturunuz."
   ]
  },
  {
   "cell_type": "code",
   "execution_count": 54,
   "metadata": {
    "id": "XUPrgZt7LQkL",
    "outputId": "83be9a38-b07c-42dd-b0de-db663b733694"
   },
   "outputs": [
    {
     "data": {
      "text/html": [
       "<div>\n",
       "<style scoped>\n",
       "    .dataframe tbody tr th:only-of-type {\n",
       "        vertical-align: middle;\n",
       "    }\n",
       "\n",
       "    .dataframe tbody tr th {\n",
       "        vertical-align: top;\n",
       "    }\n",
       "\n",
       "    .dataframe thead th {\n",
       "        text-align: right;\n",
       "    }\n",
       "</style>\n",
       "<table border=\"1\" class=\"dataframe\">\n",
       "  <thead>\n",
       "    <tr style=\"text-align: right;\">\n",
       "      <th></th>\n",
       "      <th>Continent</th>\n",
       "      <th>CurrencyCode</th>\n",
       "    </tr>\n",
       "    <tr>\n",
       "      <th>Country</th>\n",
       "      <th></th>\n",
       "      <th></th>\n",
       "    </tr>\n",
       "  </thead>\n",
       "  <tbody>\n",
       "    <tr>\n",
       "      <th>Andorra</th>\n",
       "      <td>EU</td>\n",
       "      <td>EUR</td>\n",
       "    </tr>\n",
       "    <tr>\n",
       "      <th>United Arab Emirates</th>\n",
       "      <td>AS</td>\n",
       "      <td>AED</td>\n",
       "    </tr>\n",
       "    <tr>\n",
       "      <th>Afghanistan</th>\n",
       "      <td>AS</td>\n",
       "      <td>AFN</td>\n",
       "    </tr>\n",
       "    <tr>\n",
       "      <th>Antigua and Barbuda</th>\n",
       "      <td>NA</td>\n",
       "      <td>XCD</td>\n",
       "    </tr>\n",
       "    <tr>\n",
       "      <th>Anguilla</th>\n",
       "      <td>NA</td>\n",
       "      <td>XCD</td>\n",
       "    </tr>\n",
       "  </tbody>\n",
       "</table>\n",
       "</div>"
      ],
      "text/plain": [
       "                     Continent CurrencyCode\n",
       "Country                                    \n",
       "Andorra                     EU          EUR\n",
       "United Arab Emirates        AS          AED\n",
       "Afghanistan                 AS          AFN\n",
       "Antigua and Barbuda         NA          XCD\n",
       "Anguilla                    NA          XCD"
      ]
     },
     "execution_count": 54,
     "metadata": {},
     "output_type": "execute_result"
    }
   ],
   "source": [
    "country_info=pd.read_table(\"https://download.geonames.org/export/dump/countryInfo.txt\",skiprows=49,na_filter=False)[[\"Country\",\"Continent\",\"CurrencyCode\"]]\n",
    "country_info.set_index(\"Country\",inplace=True)\n",
    "country_info.head()"
   ]
  },
  {
   "cell_type": "code",
   "execution_count": 55,
   "metadata": {
    "id": "EI2rNLG7LQkL",
    "outputId": "8f68fe3f-2cae-4fe0-88d3-4fd588b4f7d8"
   },
   "outputs": [
    {
     "data": {
      "text/html": [
       "<div>\n",
       "<style scoped>\n",
       "    .dataframe tbody tr th:only-of-type {\n",
       "        vertical-align: middle;\n",
       "    }\n",
       "\n",
       "    .dataframe tbody tr th {\n",
       "        vertical-align: top;\n",
       "    }\n",
       "\n",
       "    .dataframe thead th {\n",
       "        text-align: right;\n",
       "    }\n",
       "</style>\n",
       "<table border=\"1\" class=\"dataframe\">\n",
       "  <thead>\n",
       "    <tr style=\"text-align: right;\">\n",
       "      <th></th>\n",
       "      <th>Continent</th>\n",
       "      <th>CurrencyCode</th>\n",
       "      <th>ContinentName</th>\n",
       "    </tr>\n",
       "    <tr>\n",
       "      <th>Country</th>\n",
       "      <th></th>\n",
       "      <th></th>\n",
       "      <th></th>\n",
       "    </tr>\n",
       "  </thead>\n",
       "  <tbody>\n",
       "    <tr>\n",
       "      <th>Andorra</th>\n",
       "      <td>EU</td>\n",
       "      <td>EUR</td>\n",
       "      <td>Europe</td>\n",
       "    </tr>\n",
       "    <tr>\n",
       "      <th>United Arab Emirates</th>\n",
       "      <td>AS</td>\n",
       "      <td>AED</td>\n",
       "      <td>Asia</td>\n",
       "    </tr>\n",
       "    <tr>\n",
       "      <th>Afghanistan</th>\n",
       "      <td>AS</td>\n",
       "      <td>AFN</td>\n",
       "      <td>Asia</td>\n",
       "    </tr>\n",
       "    <tr>\n",
       "      <th>Antigua and Barbuda</th>\n",
       "      <td>NA</td>\n",
       "      <td>XCD</td>\n",
       "      <td>North America</td>\n",
       "    </tr>\n",
       "    <tr>\n",
       "      <th>Anguilla</th>\n",
       "      <td>NA</td>\n",
       "      <td>XCD</td>\n",
       "      <td>North America</td>\n",
       "    </tr>\n",
       "  </tbody>\n",
       "</table>\n",
       "</div>"
      ],
      "text/plain": [
       "                     Continent CurrencyCode  ContinentName\n",
       "Country                                                   \n",
       "Andorra                     EU          EUR         Europe\n",
       "United Arab Emirates        AS          AED           Asia\n",
       "Afghanistan                 AS          AFN           Asia\n",
       "Antigua and Barbuda         NA          XCD  North America\n",
       "Anguilla                    NA          XCD  North America"
      ]
     },
     "execution_count": 55,
     "metadata": {},
     "output_type": "execute_result"
    }
   ],
   "source": [
    "country_info[\"ContinentName\"]=country_info.Continent.map({\n",
    "    \"AF\":\"Africa\",\n",
    "    \"AS\":\"Asia\",\n",
    "    \"EU\":\"Europe\",\n",
    "    \"NA\":\"North America\",\n",
    "    \"OC\":\"Oceania\",\n",
    "    \"SA\":\"South America\",\n",
    "    \"AN\":\"Antarctica\"} )\n",
    "country_info.head()"
   ]
  },
  {
   "cell_type": "markdown",
   "metadata": {
    "id": "rCjYx5IVLQkM"
   },
   "source": [
    "### Soru 14:\n",
    "\n",
    "* __survey_19__ dataframe'i ile __country_info__ dataframe'ini ülke bazında birleştirip __merged_survey__ isimli yeni bir dataframe'e aktarınız.\n",
    "* Yaşadığı ülkenin resmi para biriminin dışındaki para birimiyle maaş alan kişi sayısı nedir?\n",
    "* Her bir para biriminin kaç ülkede maaş olarak verildiğini azalan sırada listeleyiniz.\n",
    "* Her kıtadaki ortalama maaşı en yüksek olan ülkeyi ve ortalama maaşı listeleyiniz.\n",
    "* Avrupa kıtasındaki ülkelerin ortalama haftalık çalışma saati ```(WorkWeekHrs)``` ve ortalama yıllık maaşlarını ```(ConvertedComp)``` saçılım (scatter) grafiğinde gösteriniz."
   ]
  },
  {
   "cell_type": "code",
   "execution_count": 56,
   "metadata": {
    "id": "TIi1zu17LQkM",
    "outputId": "e1cddcf1-962b-47b9-868c-4fd96bd65879",
    "scrolled": true
   },
   "outputs": [
    {
     "data": {
      "text/html": [
       "<div>\n",
       "<style scoped>\n",
       "    .dataframe tbody tr th:only-of-type {\n",
       "        vertical-align: middle;\n",
       "    }\n",
       "\n",
       "    .dataframe tbody tr th {\n",
       "        vertical-align: top;\n",
       "    }\n",
       "\n",
       "    .dataframe thead th {\n",
       "        text-align: right;\n",
       "    }\n",
       "</style>\n",
       "<table border=\"1\" class=\"dataframe\">\n",
       "  <thead>\n",
       "    <tr style=\"text-align: right;\">\n",
       "      <th></th>\n",
       "      <th>MainBranch</th>\n",
       "      <th>Hobbyist</th>\n",
       "      <th>OpenSourcer</th>\n",
       "      <th>OpenSource</th>\n",
       "      <th>Employment</th>\n",
       "      <th>Country</th>\n",
       "      <th>Student</th>\n",
       "      <th>EdLevel</th>\n",
       "      <th>UndergradMajor</th>\n",
       "      <th>EduOther</th>\n",
       "      <th>...</th>\n",
       "      <th>Trans</th>\n",
       "      <th>Sexuality</th>\n",
       "      <th>Ethnicity</th>\n",
       "      <th>Dependents</th>\n",
       "      <th>SurveyLength</th>\n",
       "      <th>SurveyEase</th>\n",
       "      <th>AgeInterval</th>\n",
       "      <th>Continent</th>\n",
       "      <th>CurrencyCode</th>\n",
       "      <th>ContinentName</th>\n",
       "    </tr>\n",
       "  </thead>\n",
       "  <tbody>\n",
       "    <tr>\n",
       "      <th>0</th>\n",
       "      <td>Not a Developer</td>\n",
       "      <td>Yes</td>\n",
       "      <td>Never</td>\n",
       "      <td>The quality of OSS and closed source software ...</td>\n",
       "      <td>Employed full-time</td>\n",
       "      <td>Thailand</td>\n",
       "      <td>No</td>\n",
       "      <td>Bachelor’s degree (BA, BS, B.Eng., etc.)</td>\n",
       "      <td>Web development or web design</td>\n",
       "      <td>Taught yourself a new language, framework, or ...</td>\n",
       "      <td>...</td>\n",
       "      <td>No</td>\n",
       "      <td>Straight / Heterosexual</td>\n",
       "      <td>NaN</td>\n",
       "      <td>Yes</td>\n",
       "      <td>Appropriate in length</td>\n",
       "      <td>Neither easy nor difficult</td>\n",
       "      <td>(24, 29]</td>\n",
       "      <td>AS</td>\n",
       "      <td>THB</td>\n",
       "      <td>Asia</td>\n",
       "    </tr>\n",
       "    <tr>\n",
       "      <th>1</th>\n",
       "      <td>Developer</td>\n",
       "      <td>Yes</td>\n",
       "      <td>Less than once a month but more than once per ...</td>\n",
       "      <td>The quality of OSS and closed source software ...</td>\n",
       "      <td>Employed full-time</td>\n",
       "      <td>Thailand</td>\n",
       "      <td>No</td>\n",
       "      <td>Master’s degree (MA, MS, M.Eng., MBA, etc.)</td>\n",
       "      <td>Another engineering discipline (ex. civil, ele...</td>\n",
       "      <td>Taken an online course in programming or softw...</td>\n",
       "      <td>...</td>\n",
       "      <td>No</td>\n",
       "      <td>Straight / Heterosexual</td>\n",
       "      <td>South Asian</td>\n",
       "      <td>Yes</td>\n",
       "      <td>Appropriate in length</td>\n",
       "      <td>Neither easy nor difficult</td>\n",
       "      <td>(24, 29]</td>\n",
       "      <td>AS</td>\n",
       "      <td>THB</td>\n",
       "      <td>Asia</td>\n",
       "    </tr>\n",
       "  </tbody>\n",
       "</table>\n",
       "<p>2 rows × 74 columns</p>\n",
       "</div>"
      ],
      "text/plain": [
       "        MainBranch Hobbyist  \\\n",
       "0  Not a Developer      Yes   \n",
       "1        Developer      Yes   \n",
       "\n",
       "                                         OpenSourcer  \\\n",
       "0                                              Never   \n",
       "1  Less than once a month but more than once per ...   \n",
       "\n",
       "                                          OpenSource          Employment  \\\n",
       "0  The quality of OSS and closed source software ...  Employed full-time   \n",
       "1  The quality of OSS and closed source software ...  Employed full-time   \n",
       "\n",
       "    Country Student                                      EdLevel  \\\n",
       "0  Thailand      No     Bachelor’s degree (BA, BS, B.Eng., etc.)   \n",
       "1  Thailand      No  Master’s degree (MA, MS, M.Eng., MBA, etc.)   \n",
       "\n",
       "                                      UndergradMajor  \\\n",
       "0                      Web development or web design   \n",
       "1  Another engineering discipline (ex. civil, ele...   \n",
       "\n",
       "                                            EduOther  ... Trans  \\\n",
       "0  Taught yourself a new language, framework, or ...  ...    No   \n",
       "1  Taken an online course in programming or softw...  ...    No   \n",
       "\n",
       "                 Sexuality    Ethnicity Dependents           SurveyLength  \\\n",
       "0  Straight / Heterosexual          NaN        Yes  Appropriate in length   \n",
       "1  Straight / Heterosexual  South Asian        Yes  Appropriate in length   \n",
       "\n",
       "                   SurveyEase AgeInterval Continent CurrencyCode ContinentName  \n",
       "0  Neither easy nor difficult    (24, 29]        AS          THB          Asia  \n",
       "1  Neither easy nor difficult    (24, 29]        AS          THB          Asia  \n",
       "\n",
       "[2 rows x 74 columns]"
      ]
     },
     "execution_count": 56,
     "metadata": {},
     "output_type": "execute_result"
    }
   ],
   "source": [
    "merged_survey=pd.merge(survey_19,country_info,on=\"Country\")\n",
    "merged_survey.head(2)"
   ]
  },
  {
   "cell_type": "markdown",
   "metadata": {},
   "source": [
    "#### Yaşadığı ülkenin resmi para biriminin dışındaki para birimiyle maaş alan kişi sayısı nedir?"
   ]
  },
  {
   "cell_type": "code",
   "execution_count": 57,
   "metadata": {
    "id": "WzN0DxMULQkN",
    "outputId": "92a5a120-d4d3-4f3c-8c7b-5b6053db889a"
   },
   "outputs": [
    {
     "data": {
      "text/plain": [
       "1620"
      ]
     },
     "execution_count": 57,
     "metadata": {},
     "output_type": "execute_result"
    }
   ],
   "source": [
    "len(merged_survey[merged_survey.CurrencySymbol!=merged_survey.CurrencyCode].index)"
   ]
  },
  {
   "cell_type": "markdown",
   "metadata": {},
   "source": [
    "#### Her bir para biriminin kaç ülkede maaş olarak verildiğini azalan sırada listeleyiniz."
   ]
  },
  {
   "cell_type": "code",
   "execution_count": 58,
   "metadata": {
    "id": "6BCrKb3zLQkO",
    "outputId": "40106ed5-8641-48bd-e9f6-48637fd2d7c7",
    "scrolled": true
   },
   "outputs": [
    {
     "data": {
      "text/plain": [
       "USD    13909\n",
       "EUR    11103\n",
       "INR     3525\n",
       "GBP     3335\n",
       "CAD     1977\n",
       "Name: CurrencySymbol, dtype: int64"
      ]
     },
     "execution_count": 58,
     "metadata": {},
     "output_type": "execute_result"
    }
   ],
   "source": [
    "merged_survey.CurrencySymbol.value_counts().head()"
   ]
  },
  {
   "cell_type": "markdown",
   "metadata": {},
   "source": [
    "#### Avrupa kıtasındaki ülkelerin ortalama haftalık çalışma saati ```(WorkWeekHrs)``` ve ortalama yıllık maaşlarını ```(ConvertedComp)``` saçılım (scatter) grafiğinde gösteriniz."
   ]
  },
  {
   "cell_type": "code",
   "execution_count": 59,
   "metadata": {
    "id": "vMWVjGQcLQkO",
    "outputId": "59dbf693-16a9-47f5-ef71-7e99eecdbadd"
   },
   "outputs": [
    {
     "data": {
      "text/plain": [
       "<matplotlib.axes._subplots.AxesSubplot at 0x2a2c00c60d0>"
      ]
     },
     "execution_count": 59,
     "metadata": {},
     "output_type": "execute_result"
    },
    {
     "data": {
      "image/png": "[encoded data removed]",
      "text/plain": [
       "<Figure size 1080x1080 with 1 Axes>"
      ]
     },
     "metadata": {
      "needs_background": "light"
     },
     "output_type": "display_data"
    }
   ],
   "source": [
    "Avrupa_scatter=merged_survey[merged_survey.ContinentName==\"Europe\"]\n",
    "Avrupa_scatter.plot.scatter(x=\"WorkWeekHrs\",y=\"ConvertedComp\",grid=True,figsize=(15,15))"
   ]
  },
  {
   "cell_type": "markdown",
   "metadata": {},
   "source": [
    "#### Her kıtadaki ortalama maaşı en yüksek olan ülkeyi ve ortalama maaşı listeleyiniz."
   ]
  },
  {
   "cell_type": "code",
   "execution_count": 60,
   "metadata": {
    "scrolled": true
   },
   "outputs": [
    {
     "data": {
      "text/plain": [
       "[47939, 13317, 17462, 4660, 21094, 22938]"
      ]
     },
     "execution_count": 60,
     "metadata": {},
     "output_type": "execute_result"
    }
   ],
   "source": [
    "maxConverted_eachContinent=list(merged_survey.groupby([\"Continent\"]).ConvertedComp.idxmax())\n",
    "maxConverted_eachContinent"
   ]
  },
  {
   "cell_type": "code",
   "execution_count": 61,
   "metadata": {},
   "outputs": [
    {
     "data": {
      "text/html": [
       "<div>\n",
       "<style scoped>\n",
       "    .dataframe tbody tr th:only-of-type {\n",
       "        vertical-align: middle;\n",
       "    }\n",
       "\n",
       "    .dataframe tbody tr th {\n",
       "        vertical-align: top;\n",
       "    }\n",
       "\n",
       "    .dataframe thead th {\n",
       "        text-align: right;\n",
       "    }\n",
       "</style>\n",
       "<table border=\"1\" class=\"dataframe\">\n",
       "  <thead>\n",
       "    <tr style=\"text-align: right;\">\n",
       "      <th></th>\n",
       "      <th>Country</th>\n",
       "      <th>ConvertedComp</th>\n",
       "    </tr>\n",
       "    <tr>\n",
       "      <th>Continent</th>\n",
       "      <th></th>\n",
       "      <th></th>\n",
       "    </tr>\n",
       "  </thead>\n",
       "  <tbody>\n",
       "    <tr>\n",
       "      <th>AF</th>\n",
       "      <td>Cameroon</td>\n",
       "      <td>247476.0</td>\n",
       "    </tr>\n",
       "    <tr>\n",
       "      <th>AS</th>\n",
       "      <td>India</td>\n",
       "      <td>251868.0</td>\n",
       "    </tr>\n",
       "    <tr>\n",
       "      <th>EU</th>\n",
       "      <td>Germany</td>\n",
       "      <td>252065.0</td>\n",
       "    </tr>\n",
       "    <tr>\n",
       "      <th>NA</th>\n",
       "      <td>United States</td>\n",
       "      <td>252000.0</td>\n",
       "    </tr>\n",
       "    <tr>\n",
       "      <th>OC</th>\n",
       "      <td>Australia</td>\n",
       "      <td>228000.0</td>\n",
       "    </tr>\n",
       "    <tr>\n",
       "      <th>SA</th>\n",
       "      <td>Brazil</td>\n",
       "      <td>229476.0</td>\n",
       "    </tr>\n",
       "  </tbody>\n",
       "</table>\n",
       "</div>"
      ],
      "text/plain": [
       "                 Country  ConvertedComp\n",
       "Continent                              \n",
       "AF              Cameroon       247476.0\n",
       "AS                 India       251868.0\n",
       "EU               Germany       252065.0\n",
       "NA         United States       252000.0\n",
       "OC             Australia       228000.0\n",
       "SA                Brazil       229476.0"
      ]
     },
     "execution_count": 61,
     "metadata": {},
     "output_type": "execute_result"
    }
   ],
   "source": [
    "merged_survey.iloc[list(maxConverted_eachContinent)][[\"Continent\",\"Country\",\"ConvertedComp\"]].set_index(\"Continent\")"
   ]
  }
 ],
 "metadata": {
  "colab": {
   "name": "Veri Bilimi - Proje 1.ipynb",
   "provenance": []
  },
  "kernelspec": {
   "display_name": "Python 3",
   "language": "python",
   "name": "python3"
  },
  "language_info": {
   "codemirror_mode": {
    "name": "ipython",
    "version": 3
   },
   "file_extension": ".py",
   "mimetype": "text/x-python",
   "name": "python",
   "nbconvert_exporter": "python",
   "pygments_lexer": "ipython3",
   "version": "3.8.3"
  }
 },
 "nbformat": 4,
 "nbformat_minor": 1
}
